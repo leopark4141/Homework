{
  "nbformat": 4,
  "nbformat_minor": 0,
  "metadata": {
    "colab": {
      "provenance": [],
      "authorship_tag": "ABX9TyMkvHHGImbq9WRobSt5HeSJ",
      "include_colab_link": true
    },
    "kernelspec": {
      "name": "python3",
      "display_name": "Python 3"
    },
    "language_info": {
      "name": "python"
    }
  },
  "cells": [
    {
      "cell_type": "markdown",
      "metadata": {
        "id": "view-in-github",
        "colab_type": "text"
      },
      "source": [
        "<a href=\"https://colab.research.google.com/github/leopark4141/Homework/blob/main/120%2C121HW.ipynb\" target=\"_parent\"><img src=\"https://colab.research.google.com/assets/colab-badge.svg\" alt=\"Open In Colab\"/></a>"
      ]
    },
    {
      "cell_type": "code",
      "execution_count": null,
      "metadata": {
        "id": "_0-IuSIvVqwL"
      },
      "outputs": [],
      "source": [
        "greats = {'루피': 99, '조로': 95, '상디': 89, '나미': 97}\n",
        "level = greats.pop('루피')\n",
        "print(level)\n",
        "print(greats)"
      ]
    },
    {
      "cell_type": "code",
      "source": [
        "level = greats.pop('루피', 99)\n",
        "print(greats)"
      ],
      "metadata": {
        "id": "GkK_9E8DVuZN"
      },
      "execution_count": null,
      "outputs": []
    },
    {
      "cell_type": "code",
      "source": [
        "greats = {'루피': 99, '조로': 95, '상디': 89}\n",
        "while len(greats):\n",
        "    general = greats.popitem()\n",
        "    print(general)"
      ],
      "metadata": {
        "id": "6bryQT0EVwfd"
      },
      "execution_count": null,
      "outputs": []
    },
    {
      "cell_type": "code",
      "source": [
        "greats = {'루피': 99, '조로': 95, '상디': 89, '나미': 97}\n",
        "greats.update({'우솝': 70})\n",
        "print(greats)"
      ],
      "metadata": {
        "id": "pvgKnvg9VyME"
      },
      "execution_count": null,
      "outputs": []
    }
  ]
}