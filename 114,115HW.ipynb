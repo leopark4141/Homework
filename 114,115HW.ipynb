{
  "nbformat": 4,
  "nbformat_minor": 0,
  "metadata": {
    "colab": {
      "provenance": [],
      "authorship_tag": "ABX9TyMa7viA/MXMvzRr+DPBGufa",
      "include_colab_link": true
    },
    "kernelspec": {
      "name": "python3",
      "display_name": "Python 3"
    },
    "language_info": {
      "name": "python"
    }
  },
  "cells": [
    {
      "cell_type": "markdown",
      "metadata": {
        "id": "view-in-github",
        "colab_type": "text"
      },
      "source": [
        "<a href=\"https://colab.research.google.com/github/leopark4141/Homework/blob/main/114%2C115HW.ipynb\" target=\"_parent\"><img src=\"https://colab.research.google.com/assets/colab-badge.svg\" alt=\"Open In Colab\"/></a>"
      ]
    },
    {
      "cell_type": "code",
      "execution_count": null,
      "metadata": {
        "id": "pccsrJMcGgen"
      },
      "outputs": [],
      "source": [
        "greats = {'루피': 99, '조로': 95, '상디': 89, '나미': 97}\n",
        "greats.clear()\n",
        "print(greats)"
      ]
    },
    {
      "cell_type": "code",
      "source": [
        "del greats\n",
        "print(greats)"
      ],
      "metadata": {
        "id": "DNQbpLxtR8du"
      },
      "execution_count": null,
      "outputs": []
    },
    {
      "cell_type": "code",
      "source": [
        "greats = {'루피': 99, '조로': 95, '상디': 89, '나미': 97}\n",
        "buffer = greats.copy()\n",
        "print(buffer)"
      ],
      "metadata": {
        "id": "8C5rXCiwTmn0"
      },
      "execution_count": null,
      "outputs": []
    },
    {
      "cell_type": "code",
      "source": [
        "print(greats is buffer)"
      ],
      "metadata": {
        "id": "5GbjzgTUTn-_"
      },
      "execution_count": null,
      "outputs": []
    }
  ]
}