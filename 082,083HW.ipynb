{
  "nbformat": 4,
  "nbformat_minor": 0,
  "metadata": {
    "colab": {
      "provenance": [],
      "authorship_tag": "ABX9TyN/QiXRW+24fwKK9PaQtyMN",
      "include_colab_link": true
    },
    "kernelspec": {
      "name": "python3",
      "display_name": "Python 3"
    },
    "language_info": {
      "name": "python"
    }
  },
  "cells": [
    {
      "cell_type": "markdown",
      "metadata": {
        "id": "view-in-github",
        "colab_type": "text"
      },
      "source": [
        "<a href=\"https://colab.research.google.com/github/leopark4141/Homework/blob/main/082%2C083HW.ipynb\" target=\"_parent\"><img src=\"https://colab.research.google.com/assets/colab-badge.svg\" alt=\"Open In Colab\"/></a>"
      ]
    },
    {
      "cell_type": "code",
      "execution_count": 1,
      "metadata": {
        "colab": {
          "base_uri": "https://localhost:8080/"
        },
        "id": "zj6nYFsAyO6x",
        "outputId": "802f6fcf-4760-473d-c456-8eed6fc17512"
      },
      "outputs": [
        {
          "output_type": "stream",
          "name": "stdout",
          "text": [
            "['홍길동', '남자', '18세', '도적', '초능력자']\n"
          ]
        }
      ],
      "source": [
        "logData = '홍길동;남자;18세;도적;초능력자'\n",
        "profile = logData.split(';')\n",
        "print(profile)"
      ]
    },
    {
      "cell_type": "code",
      "source": [
        "text = '나는 파이썬을 사랑합니다.'\n",
        "print(text.split())"
      ],
      "metadata": {
        "colab": {
          "base_uri": "https://localhost:8080/"
        },
        "id": "Mdhc6ScVyRTZ",
        "outputId": "ae0d820e-8c71-42fa-f2df-8ec6eb77cdaf"
      },
      "execution_count": 2,
      "outputs": [
        {
          "output_type": "stream",
          "name": "stdout",
          "text": [
            "['나는', '파이썬을', '사랑합니다.']\n"
          ]
        }
      ]
    },
    {
      "cell_type": "code",
      "source": [
        "profile = '이름:홍길동 나이:18세 성별:남자 국적:조선 직업:도적 특기:초능력'\n",
        "for data in profile.split():\n",
        "    key, val = data.split(':')\n",
        "    print(f'{key}→{val}')"
      ],
      "metadata": {
        "colab": {
          "base_uri": "https://localhost:8080/"
        },
        "id": "CK6LWM1mySsg",
        "outputId": "71f7545e-df68-4a51-fe2c-d68cd1d891d5"
      },
      "execution_count": 3,
      "outputs": [
        {
          "output_type": "stream",
          "name": "stdout",
          "text": [
            "이름→홍길동\n",
            "나이→18세\n",
            "성별→남자\n",
            "국적→조선\n",
            "직업→도적\n",
            "특기→초능력\n"
          ]
        }
      ]
    },
    {
      "cell_type": "code",
      "source": [
        "text = '   이 문장의 양쪽에는 공백이 있습니다.   '\n",
        "print(f'[{text.strip()}]')\n",
        "print(f'[{text.lstrip()}]')\n",
        "print(f'[{text.rstrip()}]')"
      ],
      "metadata": {
        "colab": {
          "base_uri": "https://localhost:8080/"
        },
        "id": "DaCBVdIRyUrY",
        "outputId": "74b73cf7-ca37-4d45-e2a7-fb0d42ffaff4"
      },
      "execution_count": 4,
      "outputs": [
        {
          "output_type": "stream",
          "name": "stdout",
          "text": [
            "[이 문장의 양쪽에는 공백이 있습니다.]\n",
            "[이 문장의 양쪽에는 공백이 있습니다.   ]\n",
            "[   이 문장의 양쪽에는 공백이 있습니다.]\n"
          ]
        }
      ]
    },
    {
      "cell_type": "code",
      "source": [
        "url = 'www.python.comow.'\n",
        "print(url.strip('cmow.'))"
      ],
      "metadata": {
        "colab": {
          "base_uri": "https://localhost:8080/"
        },
        "id": "qNJvladryWi_",
        "outputId": "77420e8c-aaaf-4a3d-b44b-240b1700dae9"
      },
      "execution_count": 5,
      "outputs": [
        {
          "output_type": "stream",
          "name": "stdout",
          "text": [
            "python\n"
          ]
        }
      ]
    },
    {
      "cell_type": "code",
      "source": [
        "print(url.lstrip('cmow.'))\n",
        "print(url.rstrip('cmow.'))"
      ],
      "metadata": {
        "colab": {
          "base_uri": "https://localhost:8080/"
        },
        "id": "wEqlxwEEyX-j",
        "outputId": "d6807c0f-ec34-4c23-ad3e-a8bb22830d14"
      },
      "execution_count": 6,
      "outputs": [
        {
          "output_type": "stream",
          "name": "stdout",
          "text": [
            "python.comow.\n",
            "www.python\n"
          ]
        }
      ]
    }
  ]
}