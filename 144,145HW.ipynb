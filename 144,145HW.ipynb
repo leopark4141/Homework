{
  "nbformat": 4,
  "nbformat_minor": 0,
  "metadata": {
    "colab": {
      "provenance": [],
      "authorship_tag": "ABX9TyNMkC6tIprNfHPf1B5ROaoL",
      "include_colab_link": true
    },
    "kernelspec": {
      "name": "python3",
      "display_name": "Python 3"
    },
    "language_info": {
      "name": "python"
    }
  },
  "cells": [
    {
      "cell_type": "markdown",
      "metadata": {
        "id": "view-in-github",
        "colab_type": "text"
      },
      "source": [
        "<a href=\"https://colab.research.google.com/github/leopark4141/Homework/blob/main/144%2C145HW.ipynb\" target=\"_parent\"><img src=\"https://colab.research.google.com/assets/colab-badge.svg\" alt=\"Open In Colab\"/></a>"
      ]
    },
    {
      "cell_type": "code",
      "execution_count": null,
      "metadata": {
        "id": "CU4TzoHIZs4c"
      },
      "outputs": [],
      "source": [
        "def splitfilename(file):\n",
        "    buf = file.split('.')\n",
        "    if len(buf) > 1:\n",
        "        ext = buf[-1]\n",
        "        name = '.'.join(buf[:-1])\n",
        "    else:\n",
        "        name = buf[0]\n",
        "        ext = None\n",
        "    return (name, ext)"
      ]
    },
    {
      "cell_type": "code",
      "source": [
        "import splitfilename\n",
        "\n",
        "filename = 'python200.test.py'\n",
        "ret = splitfilename.splitfilename(filename)\n",
        "print(f'파일명: {ret[0]}, 확장자: {ret[1]}')"
      ],
      "metadata": {
        "id": "bozvpIw-Zvpo"
      },
      "execution_count": null,
      "outputs": []
    },
    {
      "cell_type": "code",
      "source": [
        "import sound.filters.noreabnag"
      ],
      "metadata": {
        "id": "q16xZ0tdZyOg"
      },
      "execution_count": null,
      "outputs": []
    }
  ]
}