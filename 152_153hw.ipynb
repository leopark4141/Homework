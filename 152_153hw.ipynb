{
  "nbformat": 4,
  "nbformat_minor": 0,
  "metadata": {
    "colab": {
      "provenance": [],
      "authorship_tag": "ABX9TyMLrpc/edS6gQ4QalbyvU7R",
      "include_colab_link": true
    },
    "kernelspec": {
      "name": "python3",
      "display_name": "Python 3"
    },
    "language_info": {
      "name": "python"
    }
  },
  "cells": [
    {
      "cell_type": "markdown",
      "metadata": {
        "id": "view-in-github",
        "colab_type": "text"
      },
      "source": [
        "<a href=\"https://colab.research.google.com/github/leopark4141/Homework/blob/main/152_153hw.ipynb\" target=\"_parent\"><img src=\"https://colab.research.google.com/assets/colab-badge.svg\" alt=\"Open In Colab\"/></a>"
      ]
    },
    {
      "cell_type": "code",
      "execution_count": null,
      "metadata": {
        "id": "E1x5OdNAa6-l"
      },
      "outputs": [],
      "source": [
        "with open('prophet_en.txt', 'r') as f:\n",
        "    readData = f.read()\n",
        "print(readData)"
      ]
    },
    {
      "cell_type": "code",
      "source": [
        "with open('prophet_cp949_ko.txt', 'r', encoding='cp949') as f:\n",
        "    readData = f.read()\n",
        "print(readData[:50])"
      ],
      "metadata": {
        "id": "G8WxYXd6bAMc"
      },
      "execution_count": null,
      "outputs": []
    },
    {
      "cell_type": "code",
      "source": [
        "with open('sunrise.jpg', 'rb') as f:\n",
        "    readData = f.read(50)\n",
        "print(readData[:50])"
      ],
      "metadata": {
        "id": "Q--7a1JPbBZl"
      },
      "execution_count": null,
      "outputs": []
    },
    {
      "cell_type": "code",
      "source": [
        "flag = input('파일을 저장할까요? (Y/N): ')\n",
        "if flag.lower() == 'y':\n",
        "    data = input('저장할 내용을 입력하세요: ')\n",
        "    with open('mydata.txt', 'w', encoding='utf8') as f:\n",
        "        f.write(data)\n",
        "    print('파일을 mydata.txt에 저장했습니다.')\n",
        "else:\n",
        "    print('파일을 저장하지 않습니다.')"
      ],
      "metadata": {
        "id": "AILEooV-bCfn"
      },
      "execution_count": null,
      "outputs": []
    },
    {
      "cell_type": "code",
      "source": [
        "data = b'A lot of things occur each day'\n",
        "with open('mydata.bin', 'wb') as f:\n",
        "    f.write(data)"
      ],
      "metadata": {
        "id": "8sZi2RbEbE9c"
      },
      "execution_count": null,
      "outputs": []
    },
    {
      "cell_type": "code",
      "source": [
        "with open('mydata.bin', 'rb') as f:\n",
        "    data = f.read()\n",
        "print(data)"
      ],
      "metadata": {
        "id": "pmgGb7JfbHJ4"
      },
      "execution_count": null,
      "outputs": []
    },
    {
      "cell_type": "code",
      "source": [],
      "metadata": {
        "id": "HD06_FKybIo_"
      },
      "execution_count": null,
      "outputs": []
    }
  ]
}