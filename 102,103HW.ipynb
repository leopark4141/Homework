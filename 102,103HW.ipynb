{
  "nbformat": 4,
  "nbformat_minor": 0,
  "metadata": {
    "colab": {
      "provenance": [],
      "authorship_tag": "ABX9TyOsEdlZOmCCO2DZ/Emsar2m",
      "include_colab_link": true
    },
    "kernelspec": {
      "name": "python3",
      "display_name": "Python 3"
    },
    "language_info": {
      "name": "python"
    }
  },
  "cells": [
    {
      "cell_type": "markdown",
      "metadata": {
        "id": "view-in-github",
        "colab_type": "text"
      },
      "source": [
        "<a href=\"https://colab.research.google.com/github/leopark4141/Homework/blob/main/102%2C103HW.ipynb\" target=\"_parent\"><img src=\"https://colab.research.google.com/assets/colab-badge.svg\" alt=\"Open In Colab\"/></a>"
      ]
    },
    {
      "cell_type": "code",
      "execution_count": null,
      "metadata": {
        "id": "aEuEcnNRDGQW"
      },
      "outputs": [],
      "source": [
        "fruits = {'사과', '배', '오렌지', '수박'}\n",
        "choice = fruits.pop()\n",
        "print(f'추출한 요소: {choice}')\n",
        "print(f'남은 fruits: {fruits}')"
      ]
    },
    {
      "cell_type": "code",
      "source": [
        "for _ in range(len(fruits)):\n",
        "    choice = fruits.pop()\n",
        "    print(f'추출한 요소: {choice}')\n",
        "    print(f'남은 fruits: {fruits}')"
      ],
      "metadata": {
        "id": "Doutp096DNGS"
      },
      "execution_count": null,
      "outputs": []
    },
    {
      "cell_type": "code",
      "source": [
        "set1 = set('abracadabra')\n",
        "set2 = set('araincengoon')\n",
        "set1.clear()\n",
        "set2.clear()\n",
        "print(f'set1={set1}, set2={set2}')"
      ],
      "metadata": {
        "id": "CYocMf5_DOXp"
      },
      "execution_count": null,
      "outputs": []
    }
  ]
}