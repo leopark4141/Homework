{
  "nbformat": 4,
  "nbformat_minor": 0,
  "metadata": {
    "colab": {
      "provenance": [],
      "include_colab_link": true
    },
    "kernelspec": {
      "name": "python3",
      "display_name": "Python 3"
    },
    "language_info": {
      "name": "python"
    }
  },
  "cells": [
    {
      "cell_type": "markdown",
      "metadata": {
        "id": "view-in-github",
        "colab_type": "text"
      },
      "source": [
        "<a href=\"https://colab.research.google.com/github/leopark4141/Homework/blob/main/_012_013_hw.ipynb\" target=\"_parent\"><img src=\"https://colab.research.google.com/assets/colab-badge.svg\" alt=\"Open In Colab\"/></a>"
      ]
    },
    {
      "cell_type": "code",
      "execution_count": null,
      "metadata": {
        "colab": {
          "base_uri": "https://localhost:8080/"
        },
        "id": "MY4-0GotA427",
        "outputId": "1b4404d7-fa46-489a-c723-6d591e8e19fe"
      },
      "outputs": [
        {
          "output_type": "stream",
          "name": "stdout",
          "text": [
            "\"a\"가 listdata에 요소로 존재합니다.\n"
          ]
        }
      ],
      "source": [
        "listdata=['a','b','c']\n",
        "if 'a' in listdata:\n",
        "  print('\"a\"가 listdata에 요소로 존재합니다.')\n",
        "else:\n",
        "  print('\"a\"가 listdata에 요소로 존재하지 않습니다.')"
      ]
    },
    {
      "cell_type": "code",
      "source": [
        "listdata=['a','b','c']\n",
        "if 'a' in listdata:print('\"a\"가 listdata에 요소로 존재합니다.')"
      ],
      "metadata": {
        "colab": {
          "base_uri": "https://localhost:8080/"
        },
        "id": "qPz4biUjA8Mh",
        "outputId": "853543fe-01fa-48f3-f12e-30a765a71dee"
      },
      "execution_count": null,
      "outputs": [
        {
          "output_type": "stream",
          "name": "stdout",
          "text": [
            "\"a\"가 listdata에 요소로 존재합니다.\n"
          ]
        }
      ]
    },
    {
      "cell_type": "code",
      "source": [
        "listdata=['a','b','c']\n",
        "if 'a' in listdata:\n",
        "  print('\"a\"가 lsitdata에 요소로 존재합니다.')\n",
        "else:\n",
        "  print('\"a\"가 listdata에 요소로 존재하지 않습니다.')\n",
        "\n"
      ],
      "metadata": {
        "colab": {
          "base_uri": "https://localhost:8080/"
        },
        "id": "kq88U1W_A-T4",
        "outputId": "4e79c011-7bf1-43ef-f8dd-8628bfb2bd2b"
      },
      "execution_count": null,
      "outputs": [
        {
          "output_type": "stream",
          "name": "stdout",
          "text": [
            "\"a\"가 lsitdata에 요소로 존재합니다.\n"
          ]
        }
      ]
    },
    {
      "cell_type": "code",
      "source": [
        "listdata=['a','b','c']\n",
        "if 'a' in listdata:\n",
        "  print('\"a\"가 lsitdata에 요소로 존재합니다.')\n",
        "  print(\"프로그램을 종료합니다.\")\n",
        "else:\n",
        "  print('\"a\"가 listdata에 요소로 존재하지 않습니다.')"
      ],
      "metadata": {
        "colab": {
          "base_uri": "https://localhost:8080/"
        },
        "id": "YrvtYR1uA-hP",
        "outputId": "28cc3d8d-5eb4-429c-8200-2ddae9be8bbb"
      },
      "execution_count": null,
      "outputs": [
        {
          "output_type": "stream",
          "name": "stdout",
          "text": [
            "\"a\"가 lsitdata에 요소로 존재합니다.\n",
            "프로그램을 종료합니다.\n"
          ]
        }
      ]
    },
    {
      "cell_type": "code",
      "source": [
        "val=None\n",
        "flag=True\n",
        "if flag:\n",
        "  val=[1,2,3,4,5]\n",
        "else:\n",
        "  val='안녕하세요 파이썬'"
      ],
      "metadata": {
        "id": "Z6BcN-Y-A-7f"
      },
      "execution_count": null,
      "outputs": []
    }
  ]
}