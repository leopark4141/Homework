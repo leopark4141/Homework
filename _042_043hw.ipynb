{
  "nbformat": 4,
  "nbformat_minor": 0,
  "metadata": {
    "colab": {
      "provenance": [],
      "authorship_tag": "ABX9TyMyxKdsB4St0Sz81ncz7fSM",
      "include_colab_link": true
    },
    "kernelspec": {
      "name": "python3",
      "display_name": "Python 3"
    },
    "language_info": {
      "name": "python"
    }
  },
  "cells": [
    {
      "cell_type": "markdown",
      "metadata": {
        "id": "view-in-github",
        "colab_type": "text"
      },
      "source": [
        "<a href=\"https://colab.research.google.com/github/leopark4141/Homework/blob/main/_042_043hw.ipynb\" target=\"_parent\"><img src=\"https://colab.research.google.com/assets/colab-badge.svg\" alt=\"Open In Colab\"/></a>"
      ]
    },
    {
      "cell_type": "code",
      "execution_count": null,
      "metadata": {
        "colab": {
          "base_uri": "https://localhost:8080/"
        },
        "id": "VTzbJARFD7CO",
        "outputId": "7755b355-e92c-4d74-ef7e-b86e70e88c3f"
      },
      "outputs": [
        {
          "output_type": "stream",
          "name": "stdout",
          "text": [
            "('a', 'd')\n",
            "('b', 'e')\n",
            "('c', 'f')\n"
          ]
        }
      ],
      "source": [
        "male=['a','b','c']\n",
        "female=['d','e','f']\n",
        "couples=zip(male,female)\n",
        "for couple in couples:\n",
        "  print(couple)"
      ]
    },
    {
      "cell_type": "code",
      "source": [
        "male=['a','b','c']\n",
        "female=['d','e','f']\n",
        "for couple in zip(male,female):\n",
        "  print(couple)"
      ],
      "metadata": {
        "colab": {
          "base_uri": "https://localhost:8080/"
        },
        "id": "sCfHWA-ND-Ur",
        "outputId": "75121a27-a25b-4cb7-c680-a39180d356e4"
      },
      "execution_count": null,
      "outputs": [
        {
          "output_type": "stream",
          "name": "stdout",
          "text": [
            "('a', 'd')\n",
            "('b', 'e')\n",
            "('c', 'f')\n"
          ]
        }
      ]
    },
    {
      "cell_type": "code",
      "source": [
        "male=['a','b','c']\n",
        "female=['d','e','f']\n",
        "for couple in zip(male,female,strict=True):\n",
        "  print(couple)"
      ],
      "metadata": {
        "colab": {
          "base_uri": "https://localhost:8080/"
        },
        "id": "ugGXU9QDD_Qp",
        "outputId": "942a3adb-7d4c-42e1-afa0-b881d43fa7e5"
      },
      "execution_count": null,
      "outputs": [
        {
          "output_type": "stream",
          "name": "stdout",
          "text": [
            "('a', 'd')\n",
            "('b', 'e')\n",
            "('c', 'f')\n"
          ]
        }
      ]
    },
    {
      "cell_type": "code",
      "source": [
        "listdata=[0,1,2,3,4]\n",
        "print(all(listdata))\n",
        "print(any(listdata))"
      ],
      "metadata": {
        "colab": {
          "base_uri": "https://localhost:8080/"
        },
        "id": "m7_aB9oyD_jz",
        "outputId": "62001e6f-0c42-4c4a-8cf2-0c960b583646"
      },
      "execution_count": null,
      "outputs": [
        {
          "output_type": "stream",
          "name": "stdout",
          "text": [
            "False\n",
            "True\n"
          ]
        }
      ]
    },
    {
      "cell_type": "code",
      "source": [
        "tupleData=(0,False,'',[],(),{},None)\n",
        "print(all(tupleData))\n",
        "print(any(tupleData))"
      ],
      "metadata": {
        "colab": {
          "base_uri": "https://localhost:8080/"
        },
        "id": "dct8v6HND_qz",
        "outputId": "1f66315c-91d0-4c73-c9ad-583770bd8ed2"
      },
      "execution_count": null,
      "outputs": [
        {
          "output_type": "stream",
          "name": "stdout",
          "text": [
            "False\n",
            "False\n"
          ]
        }
      ]
    }
  ]
}