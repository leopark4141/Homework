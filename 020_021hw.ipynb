{
  "nbformat": 4,
  "nbformat_minor": 0,
  "metadata": {
    "colab": {
      "provenance": [],
      "authorship_tag": "ABX9TyPHn8QnvPtXn9Ds31Lq84ls",
      "include_colab_link": true
    },
    "kernelspec": {
      "name": "python3",
      "display_name": "Python 3"
    },
    "language_info": {
      "name": "python"
    }
  },
  "cells": [
    {
      "cell_type": "markdown",
      "metadata": {
        "id": "view-in-github",
        "colab_type": "text"
      },
      "source": [
        "<a href=\"https://colab.research.google.com/github/leopark4141/Homework/blob/main/020_021hw.ipynb\" target=\"_parent\"><img src=\"https://colab.research.google.com/assets/colab-badge.svg\" alt=\"Open In Colab\"/></a>"
      ]
    },
    {
      "cell_type": "code",
      "execution_count": null,
      "metadata": {
        "colab": {
          "base_uri": "https://localhost:8080/"
        },
        "id": "rtSmfjiSxkFo",
        "outputId": "a6ec831e-3500-4570-b32a-4f3ad0092780"
      },
      "outputs": [
        {
          "output_type": "stream",
          "name": "stdout",
          "text": [
            "bad request\n"
          ]
        }
      ],
      "source": [
        "http_status=400\n",
        "match http_status:\n",
        "  case 400:\n",
        "    print('bad request')\n",
        "  case 401:\n",
        "    print('unauthorized')\n",
        "  case 403:\n",
        "    print('forbidden')\n",
        "  case 404:\n",
        "    print('not found')\n",
        "  case _:\n",
        "    print('error')"
      ]
    },
    {
      "cell_type": "code",
      "source": [
        "http_status=302\n",
        "match http_status:\n",
        "  case 200|202|203:\n",
        "    print('success')\n",
        "  case 300|301|302:\n",
        "    print('redirection')\n",
        "  case 400|401|402|403:\n",
        "    print('client errors')\n",
        "  case _:\n",
        "    print('?')"
      ],
      "metadata": {
        "colab": {
          "base_uri": "https://localhost:8080/"
        },
        "id": "lB8hij1ixp_p",
        "outputId": "7065a502-189d-4ebb-c835-e10f2875d17c"
      },
      "execution_count": null,
      "outputs": [
        {
          "output_type": "stream",
          "name": "stdout",
          "text": [
            "redirection\n"
          ]
        }
      ]
    },
    {
      "cell_type": "code",
      "source": [
        "point=(0,0)\n",
        "#point=(1,0)\n",
        "#point=(0,1)\n",
        "#point=(1,1)\n",
        "match point:\n",
        "  case(0,0):\n",
        "    print('a')\n",
        "  case(x,0):\n",
        "    print(f'b')\n",
        "  case(0,y):\n",
        "    print(f'c')\n",
        "  case(x,y):\n",
        "    print(f'd')\n",
        "  case _:\n",
        "    print('error')"
      ],
      "metadata": {
        "colab": {
          "base_uri": "https://localhost:8080/"
        },
        "id": "CVoEKip_xqJu",
        "outputId": "0a499110-fc86-4490-c0ae-3f51247b6d5a"
      },
      "execution_count": null,
      "outputs": [
        {
          "output_type": "stream",
          "name": "stdout",
          "text": [
            "a\n"
          ]
        }
      ]
    },
    {
      "cell_type": "code",
      "source": [
        "x=2\n",
        "y=4\n",
        "print(x*y)\n",
        "print(x/y)\n",
        "print(x**y)"
      ],
      "metadata": {
        "colab": {
          "base_uri": "https://localhost:8080/"
        },
        "id": "Tb60qAHrxqrs",
        "outputId": "814e05b4-ee63-461f-f8fe-94aefe6db1ac"
      },
      "execution_count": null,
      "outputs": [
        {
          "output_type": "stream",
          "name": "stdout",
          "text": [
            "8\n",
            "0.5\n",
            "16\n"
          ]
        }
      ]
    },
    {
      "cell_type": "code",
      "source": [
        "x=5\n",
        "y=2\n",
        "print(x//y)\n",
        "print(x%y)"
      ],
      "metadata": {
        "colab": {
          "base_uri": "https://localhost:8080/"
        },
        "id": "NvymGtQrxq34",
        "outputId": "e122cc5f-cb52-4b56-c1b7-3ae4eeb3caf5"
      },
      "execution_count": null,
      "outputs": [
        {
          "output_type": "stream",
          "name": "stdout",
          "text": [
            "2\n",
            "1\n"
          ]
        }
      ]
    }
  ]
}