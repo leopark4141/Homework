{
  "nbformat": 4,
  "nbformat_minor": 0,
  "metadata": {
    "colab": {
      "provenance": [],
      "authorship_tag": "ABX9TyOoRVXkmO0D8tAxMenSM5jR",
      "include_colab_link": true
    },
    "kernelspec": {
      "name": "python3",
      "display_name": "Python 3"
    },
    "language_info": {
      "name": "python"
    }
  },
  "cells": [
    {
      "cell_type": "markdown",
      "metadata": {
        "id": "view-in-github",
        "colab_type": "text"
      },
      "source": [
        "<a href=\"https://colab.research.google.com/github/leopark4141/Homework/blob/main/030_031hw.ipynb\" target=\"_parent\"><img src=\"https://colab.research.google.com/assets/colab-badge.svg\" alt=\"Open In Colab\"/></a>"
      ]
    },
    {
      "cell_type": "code",
      "execution_count": null,
      "metadata": {
        "colab": {
          "base_uri": "https://localhost:8080/"
        },
        "id": "LaSJbXMH2SsX",
        "outputId": "2aad7f0c-bc8d-449b-e866-7984b89a5941"
      },
      "outputs": [
        {
          "output_type": "stream",
          "name": "stdout",
          "text": [
            "42\n"
          ]
        }
      ],
      "source": [
        "ret=round(42.195)\n",
        "print(ret)"
      ]
    },
    {
      "cell_type": "code",
      "source": [
        "ret=round(42.195,0)\n",
        "print(ret)"
      ],
      "metadata": {
        "colab": {
          "base_uri": "https://localhost:8080/"
        },
        "id": "d_ccsLNL3Axn",
        "outputId": "00fd9203-0f17-44e8-88a8-1c6c412718c7"
      },
      "execution_count": null,
      "outputs": [
        {
          "output_type": "stream",
          "name": "stdout",
          "text": [
            "42.0\n"
          ]
        }
      ]
    },
    {
      "cell_type": "code",
      "source": [
        "ret=round(42.195,1)\n",
        "print(ret)"
      ],
      "metadata": {
        "colab": {
          "base_uri": "https://localhost:8080/"
        },
        "id": "DRoh0tLY3A2F",
        "outputId": "20a9d2a9-3ffd-44a4-c006-45061074ed5c"
      },
      "execution_count": null,
      "outputs": [
        {
          "output_type": "stream",
          "name": "stdout",
          "text": [
            "42.2\n"
          ]
        }
      ]
    },
    {
      "cell_type": "code",
      "source": [
        "ret=round(42.195,-1)\n",
        "print(ret)"
      ],
      "metadata": {
        "colab": {
          "base_uri": "https://localhost:8080/"
        },
        "id": "csp6OEb63A7D",
        "outputId": "19101884-7924-4e60-d805-5b9345852cbe"
      },
      "execution_count": null,
      "outputs": [
        {
          "output_type": "stream",
          "name": "stdout",
          "text": [
            "40.0\n"
          ]
        }
      ]
    },
    {
      "cell_type": "code",
      "source": [
        "floatdata=1234.5\n",
        "intdata=int(floatdata)\n",
        "print(f'intdata(intdata)자료형은{type(intdata)}입니다')"
      ],
      "metadata": {
        "colab": {
          "base_uri": "https://localhost:8080/"
        },
        "id": "7FEXaYHU3B2h",
        "outputId": "941e6a8c-7a0d-4c60-fca8-c0c0b5f21df9"
      },
      "execution_count": null,
      "outputs": [
        {
          "output_type": "stream",
          "name": "stdout",
          "text": [
            "intdata(intdata)자료형은<class 'int'>입니다\n"
          ]
        }
      ]
    },
    {
      "cell_type": "code",
      "source": [
        "strdata='1234'\n",
        "intdata=int(strdata)\n",
        "print(f'intdata(intdata)자료형은{type(intdata)}입니다')"
      ],
      "metadata": {
        "colab": {
          "base_uri": "https://localhost:8080/"
        },
        "id": "1KBk_Uep3B7o",
        "outputId": "15ddf999-2501-4bad-8439-e2069df7ed59"
      },
      "execution_count": null,
      "outputs": [
        {
          "output_type": "stream",
          "name": "stdout",
          "text": [
            "intdata(intdata)자료형은<class 'int'>입니다\n"
          ]
        }
      ]
    },
    {
      "cell_type": "code",
      "source": [
        "strdata='1234.5'\n",
        "intdata=int(strdata)"
      ],
      "metadata": {
        "colab": {
          "base_uri": "https://localhost:8080/",
          "height": 166
        },
        "id": "5_7cviO63CAt",
        "outputId": "18aac718-1bf5-4f83-e588-83f0670936bc"
      },
      "execution_count": null,
      "outputs": [
        {
          "output_type": "error",
          "ename": "ValueError",
          "evalue": "invalid literal for int() with base 10: '1234.5'",
          "traceback": [
            "\u001b[0;31m---------------------------------------------------------------------------\u001b[0m",
            "\u001b[0;31mValueError\u001b[0m                                Traceback (most recent call last)",
            "\u001b[0;32m/tmp/ipython-input-522790722.py\u001b[0m in \u001b[0;36m<cell line: 0>\u001b[0;34m()\u001b[0m\n\u001b[1;32m      1\u001b[0m \u001b[0mstrdata\u001b[0m\u001b[0;34m=\u001b[0m\u001b[0;34m'1234.5'\u001b[0m\u001b[0;34m\u001b[0m\u001b[0;34m\u001b[0m\u001b[0m\n\u001b[0;32m----> 2\u001b[0;31m \u001b[0mintdata\u001b[0m\u001b[0;34m=\u001b[0m\u001b[0mint\u001b[0m \u001b[0;34m(\u001b[0m\u001b[0mstrdata\u001b[0m\u001b[0;34m)\u001b[0m\u001b[0;34m\u001b[0m\u001b[0;34m\u001b[0m\u001b[0m\n\u001b[0m",
            "\u001b[0;31mValueError\u001b[0m: invalid literal for int() with base 10: '1234.5'"
          ]
        }
      ]
    },
    {
      "cell_type": "code",
      "source": [
        "strdata='1234.5'\n",
        "floatdata=float(strdata)\n",
        "print(f'floatdata(floatdata)자료형은{type(floatdata)}입니다')"
      ],
      "metadata": {
        "colab": {
          "base_uri": "https://localhost:8080/"
        },
        "id": "SOhJ8IMB3CVh",
        "outputId": "4b38c50f-ede8-4bae-80e3-5689a20f958b"
      },
      "execution_count": null,
      "outputs": [
        {
          "output_type": "stream",
          "name": "stdout",
          "text": [
            "floatdata(floatdata)자료형은<class 'float'>입니다\n"
          ]
        }
      ]
    },
    {
      "cell_type": "code",
      "source": [
        "print(float('2E5'))\n",
        "print(float('2e-3'))"
      ],
      "metadata": {
        "colab": {
          "base_uri": "https://localhost:8080/"
        },
        "id": "9kdn5q__3Cdm",
        "outputId": "24981f11-5c84-41d5-ad9c-9f8a1b0267b5"
      },
      "execution_count": null,
      "outputs": [
        {
          "output_type": "stream",
          "name": "stdout",
          "text": [
            "200000.0\n",
            "0.002\n"
          ]
        }
      ]
    },
    {
      "cell_type": "code",
      "source": [
        "intdata=1234;strdata1=str(intdata)\n",
        "floatdata1=1234.5;strdata2=str(floatdata1)\n",
        "floatdata2=1e-3;strdata3=str(floatdata2)\n",
        "print(f'정수{intdata}=>문자열{strdata1},{type(strdata1)}')\n",
        "print(f'실수{floatdata1}=>문자열{strdata2},{type(strdata2)}')\n",
        "print(f'실수{floatdata2}=>문자열{strdata3},{type(strdata3)}')"
      ],
      "metadata": {
        "colab": {
          "base_uri": "https://localhost:8080/"
        },
        "id": "jeWCDO-R3Cjt",
        "outputId": "a22603f7-fb6e-4abb-a10c-72e9fce20ccb"
      },
      "execution_count": null,
      "outputs": [
        {
          "output_type": "stream",
          "name": "stdout",
          "text": [
            "정수1234=>문자열1234,<class 'str'>\n",
            "실수1234.5=>문자열1234.5,<class 'str'>\n",
            "실수0.001=>문자열0.001,<class 'str'>\n"
          ]
        }
      ]
    }
  ]
}