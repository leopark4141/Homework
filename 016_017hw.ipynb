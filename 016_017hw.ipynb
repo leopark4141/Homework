{
  "nbformat": 4,
  "nbformat_minor": 0,
  "metadata": {
    "colab": {
      "provenance": [],
      "authorship_tag": "ABX9TyP8g7SFv712YWMdGpmecy6P",
      "include_colab_link": true
    },
    "kernelspec": {
      "name": "python3",
      "display_name": "Python 3"
    },
    "language_info": {
      "name": "python"
    }
  },
  "cells": [
    {
      "cell_type": "markdown",
      "metadata": {
        "id": "view-in-github",
        "colab_type": "text"
      },
      "source": [
        "<a href=\"https://colab.research.google.com/github/leopark4141/Homework/blob/main/016_017hw.ipynb\" target=\"_parent\"><img src=\"https://colab.research.google.com/assets/colab-badge.svg\" alt=\"Open In Colab\"/></a>"
      ]
    },
    {
      "cell_type": "code",
      "execution_count": null,
      "metadata": {
        "colab": {
          "base_uri": "https://localhost:8080/"
        },
        "id": "5WmEeg0MtwmQ",
        "outputId": "4ec6c97f-8709-4b27-d8e9-f67f39c2b20b"
      },
      "outputs": [
        {
          "output_type": "stream",
          "name": "stdout",
          "text": [
            "a-b-c-d-e-f-"
          ]
        }
      ],
      "source": [
        "strdata='abcdef'\n",
        "for c in strdata:\n",
        "  print(c,end='-')"
      ]
    },
    {
      "cell_type": "code",
      "source": [
        "listdata=[1,2,3,4,5]\n",
        "for idx in listdata:\n",
        "  print(idx,end='-')"
      ],
      "metadata": {
        "colab": {
          "base_uri": "https://localhost:8080/"
        },
        "id": "QP2_50owuKIb",
        "outputId": "855daa93-47f2-4280-8633-182cc5570d26"
      },
      "execution_count": null,
      "outputs": [
        {
          "output_type": "stream",
          "name": "stdout",
          "text": [
            "1-2-3-4-5-"
          ]
        }
      ]
    },
    {
      "cell_type": "code",
      "source": [
        "ascii_codes={'a':97,'b':98,'c':99}\n",
        "for code in ascii_codes.items():\n",
        "  print(code)"
      ],
      "metadata": {
        "colab": {
          "base_uri": "https://localhost:8080/"
        },
        "id": "JEgmpt7RuKZw",
        "outputId": "c57a5135-23fe-42df-9f66-d91c93a4163a"
      },
      "execution_count": null,
      "outputs": [
        {
          "output_type": "stream",
          "name": "stdout",
          "text": [
            "('a', 97)\n",
            "('b', 98)\n",
            "('c', 99)\n"
          ]
        }
      ]
    },
    {
      "cell_type": "code",
      "source": [
        "for i in range(10):\n",
        "  print(i,end='#')"
      ],
      "metadata": {
        "colab": {
          "base_uri": "https://localhost:8080/"
        },
        "id": "oURbZ3dIuK8Y",
        "outputId": "332f4d4a-696e-46c1-9786-40a3fcf7d926"
      },
      "execution_count": null,
      "outputs": [
        {
          "output_type": "stream",
          "name": "stdout",
          "text": [
            "0#1#2#3#4#5#6#7#8#9#"
          ]
        }
      ]
    },
    {
      "cell_type": "code",
      "source": [
        "for i in [1,2,3,4,5]:\n",
        "  print(i)\n",
        "  if i<2:\n",
        "    continue\n",
        "  else:\n",
        "    break"
      ],
      "metadata": {
        "colab": {
          "base_uri": "https://localhost:8080/"
        },
        "id": "eKMqkz8zuLiH",
        "outputId": "91947dc8-b5ab-44e2-af50-f41b73f8f2a6"
      },
      "execution_count": null,
      "outputs": [
        {
          "output_type": "stream",
          "name": "stdout",
          "text": [
            "1\n",
            "2\n"
          ]
        }
      ]
    },
    {
      "cell_type": "code",
      "source": [
        "for i in[1,2,3,4,5]:\n",
        "  print(i)\n",
        "  if i==2:\n",
        "    break"
      ],
      "metadata": {
        "colab": {
          "base_uri": "https://localhost:8080/"
        },
        "id": "vPyAKP4cuLzl",
        "outputId": "1c1b31f3-b87a-43d1-9572-135b82017d8e"
      },
      "execution_count": null,
      "outputs": [
        {
          "output_type": "stream",
          "name": "stdout",
          "text": [
            "1\n",
            "2\n"
          ]
        }
      ]
    },
    {
      "cell_type": "code",
      "source": [
        "for x in[1,2,3]:\n",
        "  print(x)\n",
        "else:\n",
        "  print('perfect')\n"
      ],
      "metadata": {
        "colab": {
          "base_uri": "https://localhost:8080/"
        },
        "id": "TmDSr4AauMXr",
        "outputId": "63c129fa-9b52-4d20-d864-470554d59410"
      },
      "execution_count": null,
      "outputs": [
        {
          "output_type": "stream",
          "name": "stdout",
          "text": [
            "1\n",
            "2\n",
            "3\n",
            "perfect\n"
          ]
        }
      ]
    },
    {
      "cell_type": "code",
      "source": [
        "for x in [1,2,3]:\n",
        "  print(x)\n",
        "  if x>1:\n",
        "    break\n",
        "else:\n",
        "  print('perfect')"
      ],
      "metadata": {
        "colab": {
          "base_uri": "https://localhost:8080/"
        },
        "id": "bv_lJFrduMmM",
        "outputId": "c5bb2922-7c96-4552-e1e1-6484591103ce"
      },
      "execution_count": null,
      "outputs": [
        {
          "output_type": "stream",
          "name": "stdout",
          "text": [
            "1\n",
            "2\n"
          ]
        }
      ]
    }
  ]
}