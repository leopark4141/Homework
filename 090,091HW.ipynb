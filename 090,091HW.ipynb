{
  "nbformat": 4,
  "nbformat_minor": 0,
  "metadata": {
    "colab": {
      "provenance": [],
      "authorship_tag": "ABX9TyOF6SkMbG5jXmP3MUJGGky3",
      "include_colab_link": true
    },
    "kernelspec": {
      "name": "python3",
      "display_name": "Python 3"
    },
    "language_info": {
      "name": "python"
    }
  },
  "cells": [
    {
      "cell_type": "markdown",
      "metadata": {
        "id": "view-in-github",
        "colab_type": "text"
      },
      "source": [
        "<a href=\"https://colab.research.google.com/github/leopark4141/Homework/blob/main/090%2C091HW.ipynb\" target=\"_parent\"><img src=\"https://colab.research.google.com/assets/colab-badge.svg\" alt=\"Open In Colab\"/></a>"
      ]
    },
    {
      "cell_type": "code",
      "execution_count": null,
      "metadata": {
        "id": "HqsQ4Bw-C71V"
      },
      "outputs": [],
      "source": [
        "strData = '[info]Seoul is the captial of Korea.'\n",
        "cityinfo = strData.removeprefix('[info]')\n",
        "print(cityinfo)"
      ]
    },
    {
      "cell_type": "code",
      "source": [
        "strData = '이것으로 문장을 마무리합니다.<EOD>'\n",
        "ret = strData.removesuffix('<EOD>')\n",
        "print(ret)"
      ],
      "metadata": {
        "id": "K9LV-5_VC-jB"
      },
      "execution_count": null,
      "outputs": []
    },
    {
      "cell_type": "code",
      "source": [
        "strData = 'python'\n",
        "byteData = strData.encode()\n",
        "print(byteData)"
      ],
      "metadata": {
        "id": "fJ7lSHk8C_ji"
      },
      "execution_count": null,
      "outputs": []
    },
    {
      "cell_type": "code",
      "source": [
        "for idx, c in enumerate(strData):\n",
        "    print(f'strData[{idx}] = {c}')"
      ],
      "metadata": {
        "id": "O9L_oF6-DAtM"
      },
      "execution_count": null,
      "outputs": []
    },
    {
      "cell_type": "code",
      "source": [
        "for idx, c in enumerate(byteData):\n",
        "    print(f'byteData[{idx}] = {c}, {hex(c)}')"
      ],
      "metadata": {
        "id": "nRlQkhttDB4p"
      },
      "execution_count": null,
      "outputs": []
    },
    {
      "cell_type": "code",
      "source": [
        "strData = '파이썬'\n",
        "byteData = strData.encode()\n",
        "print(byteData)"
      ],
      "metadata": {
        "id": "zVNvexA_DD_T"
      },
      "execution_count": null,
      "outputs": []
    },
    {
      "cell_type": "code",
      "source": [
        "strData = '파이썬'\n",
        "byteData = strData.encode('CP949')\n",
        "print(byteData)"
      ],
      "metadata": {
        "id": "iQJacVMYDFI1"
      },
      "execution_count": null,
      "outputs": []
    }
  ]
}