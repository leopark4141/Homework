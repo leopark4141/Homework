{
  "nbformat": 4,
  "nbformat_minor": 0,
  "metadata": {
    "colab": {
      "provenance": [],
      "include_colab_link": true
    },
    "kernelspec": {
      "name": "python3",
      "display_name": "Python 3"
    },
    "language_info": {
      "name": "python"
    }
  },
  "cells": [
    {
      "cell_type": "markdown",
      "metadata": {
        "id": "view-in-github",
        "colab_type": "text"
      },
      "source": [
        "<a href=\"https://colab.research.google.com/github/leopark4141/Homework/blob/main/014_015_hw.ipynb\" target=\"_parent\"><img src=\"https://colab.research.google.com/assets/colab-badge.svg\" alt=\"Open In Colab\"/></a>"
      ]
    },
    {
      "cell_type": "code",
      "execution_count": null,
      "metadata": {
        "colab": {
          "base_uri": "https://localhost:8080/"
        },
        "id": "4wdU-fPMDbWK",
        "outputId": "c4d02929-2d5d-4956-bc62-2248907413f7"
      },
      "outputs": [
        {
          "output_type": "stream",
          "name": "stdout",
          "text": [
            "True\n",
            "False\n"
          ]
        }
      ],
      "source": [
        "flag1=True\n",
        "flag2=False\n",
        "print(flag1==1)\n",
        "print(flag2 !=0)"
      ]
    },
    {
      "cell_type": "code",
      "source": [
        "while True:\n",
        "  실행코드"
      ],
      "metadata": {
        "id": "W1Atm19ODiXk"
      },
      "execution_count": null,
      "outputs": []
    },
    {
      "cell_type": "code",
      "source": [
        "while True:\n",
        "  실행코드\n",
        "  if 조건==True:\n",
        "    break"
      ],
      "metadata": {
        "id": "TDbUDnhWDkvG"
      },
      "execution_count": null,
      "outputs": []
    },
    {
      "cell_type": "code",
      "source": [
        "if 조건:\n",
        "  조건이 참일 경우 실행하는 코드"
      ],
      "metadata": {
        "id": "e5sVkZZfEDge"
      },
      "execution_count": null,
      "outputs": []
    },
    {
      "cell_type": "code",
      "source": [
        "if 조건:\n",
        "  조건이 참일 경우 실행하는 코드\n",
        "else:\n",
        "  조건이 거짓일 경우 실행하는 코드"
      ],
      "metadata": {
        "id": "eCNyELeDED1j"
      },
      "execution_count": null,
      "outputs": []
    },
    {
      "cell_type": "code",
      "source": [
        "x=1\n",
        "y=2\n",
        "if x<y:\n",
        "  print(\"x가 y보다 작습니다.\")\n",
        "else:\n",
        "  print(\"x가 y보다 작지 않습니다.\")"
      ],
      "metadata": {
        "colab": {
          "base_uri": "https://localhost:8080/"
        },
        "id": "dUIduHFFEEmb",
        "outputId": "cf25fd94-bc59-4db8-d95a-3a41993eedf5"
      },
      "execution_count": null,
      "outputs": [
        {
          "output_type": "stream",
          "name": "stdout",
          "text": [
            "x가 y보다 작습니다.\n"
          ]
        }
      ]
    },
    {
      "cell_type": "code",
      "source": [
        "x=1\n",
        "y=2\n",
        "if x<y:\n",
        "  print(\"x가 y보다 작습니다.\")\n",
        "elif x>y:\n",
        "  print(\"x가 y보다 큽니다.\")\n",
        "else:\n",
        "   print(\"x가 y가 같습니다.\")"
      ],
      "metadata": {
        "colab": {
          "base_uri": "https://localhost:8080/"
        },
        "id": "UB8IqMQbEErk",
        "outputId": "735020c2-a60c-4017-98f7-0823c5294f4a"
      },
      "execution_count": null,
      "outputs": [
        {
          "output_type": "stream",
          "name": "stdout",
          "text": [
            "x가 y보다 작습니다.\n"
          ]
        }
      ]
    },
    {
      "cell_type": "code",
      "source": [],
      "metadata": {
        "id": "TGpmk-Z0EExr"
      },
      "execution_count": null,
      "outputs": []
    }
  ]
}