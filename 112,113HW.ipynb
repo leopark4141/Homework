{
  "nbformat": 4,
  "nbformat_minor": 0,
  "metadata": {
    "colab": {
      "provenance": [],
      "authorship_tag": "ABX9TyNCVnLaElmFz8o/Jnh+0i61",
      "include_colab_link": true
    },
    "kernelspec": {
      "name": "python3",
      "display_name": "Python 3"
    },
    "language_info": {
      "name": "python"
    }
  },
  "cells": [
    {
      "cell_type": "markdown",
      "metadata": {
        "id": "view-in-github",
        "colab_type": "text"
      },
      "source": [
        "<a href=\"https://colab.research.google.com/github/leopark4141/Homework/blob/main/112%2C113HW.ipynb\" target=\"_parent\"><img src=\"https://colab.research.google.com/assets/colab-badge.svg\" alt=\"Open In Colab\"/></a>"
      ]
    },
    {
      "cell_type": "code",
      "execution_count": null,
      "metadata": {
        "id": "GsFb9I4-Eko_"
      },
      "outputs": [],
      "source": [
        "frequency = {}\n",
        "for c in 'mississippi':\n",
        "    if c not in frequency:\n",
        "        frequency[c] = 1\n",
        "    else:\n",
        "        frequency[c] += 1\n",
        "print(frequency)"
      ]
    },
    {
      "cell_type": "code",
      "source": [
        "greate = {'Mary': 19999, 'Cris': 2111, 'Amy': 9778}\n",
        "for name in iter(greate):\n",
        "    print(name)"
      ],
      "metadata": {
        "id": "9ai9yML3Etll"
      },
      "execution_count": null,
      "outputs": []
    }
  ]
}