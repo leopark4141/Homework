{
  "nbformat": 4,
  "nbformat_minor": 0,
  "metadata": {
    "colab": {
      "provenance": [],
      "authorship_tag": "ABX9TyP1lBcOcuXXxECEYENyQBGb",
      "include_colab_link": true
    },
    "kernelspec": {
      "name": "python3",
      "display_name": "Python 3"
    },
    "language_info": {
      "name": "python"
    }
  },
  "cells": [
    {
      "cell_type": "markdown",
      "metadata": {
        "id": "view-in-github",
        "colab_type": "text"
      },
      "source": [
        "<a href=\"https://colab.research.google.com/github/leopark4141/Homework/blob/main/092%2C093HW.ipynb\" target=\"_parent\"><img src=\"https://colab.research.google.com/assets/colab-badge.svg\" alt=\"Open In Colab\"/></a>"
      ]
    },
    {
      "cell_type": "code",
      "execution_count": null,
      "metadata": {
        "id": "xE6deer6DK0p"
      },
      "outputs": [],
      "source": [
        "strData = 'python'\n",
        "bytesData = b'python'\n",
        "print(strData[0] == bytesData[0])"
      ]
    },
    {
      "cell_type": "code",
      "source": [
        "bytesData1 = b'python'\n",
        "bytesData2 = b'파이썬'"
      ],
      "metadata": {
        "id": "KsZef0qQDP_m"
      },
      "execution_count": null,
      "outputs": []
    },
    {
      "cell_type": "code",
      "source": [
        "bytesData = '파이썬'.encode()\n",
        "print(bytesData)"
      ],
      "metadata": {
        "id": "OAaQL3xkDRKj"
      },
      "execution_count": null,
      "outputs": []
    },
    {
      "cell_type": "code",
      "source": [
        "bytesData = bytes('사랑해요 python', 'utf-8')\n",
        "print(bytesData)"
      ],
      "metadata": {
        "id": "MbGfdjstDVLq"
      },
      "execution_count": null,
      "outputs": []
    },
    {
      "cell_type": "code",
      "source": [
        "bytesData = bytes.fromhex('50 79 74 68 6e 6f 6e fa')\n",
        "print(bytesData)"
      ],
      "metadata": {
        "id": "IqkUiPMpDWRQ"
      },
      "execution_count": null,
      "outputs": []
    }
  ]
}