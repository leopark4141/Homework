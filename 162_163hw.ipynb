{
  "nbformat": 4,
  "nbformat_minor": 0,
  "metadata": {
    "colab": {
      "provenance": [],
      "authorship_tag": "ABX9TyP+8LyrQlifJb3iD3gp5dGU",
      "include_colab_link": true
    },
    "kernelspec": {
      "name": "python3",
      "display_name": "Python 3"
    },
    "language_info": {
      "name": "python"
    }
  },
  "cells": [
    {
      "cell_type": "markdown",
      "metadata": {
        "id": "view-in-github",
        "colab_type": "text"
      },
      "source": [
        "<a href=\"https://colab.research.google.com/github/leopark4141/Homework/blob/main/162_163hw.ipynb\" target=\"_parent\"><img src=\"https://colab.research.google.com/assets/colab-badge.svg\" alt=\"Open In Colab\"/></a>"
      ]
    },
    {
      "cell_type": "code",
      "execution_count": null,
      "metadata": {
        "id": "_mBTX6l-cPMh"
      },
      "outputs": [],
      "source": [
        "from os import getcwd, chdir\n",
        "print(f'현재 작업 디렉토리: {getcwd()}')\n",
        "chdir('c:/mywork/jupyter')\n",
        "print(f'변경 후 작업 디렉토리: {getcwd()}')"
      ]
    },
    {
      "cell_type": "code",
      "source": [
        "from os import mkdir\n",
        "folder = 'myfolder'\n",
        "mkdir(folder)"
      ],
      "metadata": {
        "id": "NuB8KXdFcUjR"
      },
      "execution_count": null,
      "outputs": []
    },
    {
      "cell_type": "code",
      "source": [
        "from os import rmdir\n",
        "folder = 'myfolder'\n",
        "rmdir(folder)"
      ],
      "metadata": {
        "id": "pNkA3GwPcVrz"
      },
      "execution_count": null,
      "outputs": []
    }
  ]
}