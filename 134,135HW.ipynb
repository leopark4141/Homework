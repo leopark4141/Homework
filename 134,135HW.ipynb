{
  "nbformat": 4,
  "nbformat_minor": 0,
  "metadata": {
    "colab": {
      "provenance": [],
      "authorship_tag": "ABX9TyPq5B2F8Ym8eSho7ojkC/fq",
      "include_colab_link": true
    },
    "kernelspec": {
      "name": "python3",
      "display_name": "Python 3"
    },
    "language_info": {
      "name": "python"
    }
  },
  "cells": [
    {
      "cell_type": "markdown",
      "metadata": {
        "id": "view-in-github",
        "colab_type": "text"
      },
      "source": [
        "<a href=\"https://colab.research.google.com/github/leopark4141/Homework/blob/main/134%2C135HW.ipynb\" target=\"_parent\"><img src=\"https://colab.research.google.com/assets/colab-badge.svg\" alt=\"Open In Colab\"/></a>"
      ]
    },
    {
      "cell_type": "code",
      "execution_count": null,
      "metadata": {
        "id": "8cK7rZyHYFxG"
      },
      "outputs": [],
      "source": [
        "class Wizard:\n",
        "    def __init__(self):\n",
        "        print('마법사가 생성되었습니다.')"
      ]
    },
    {
      "cell_type": "code",
      "source": [
        "class Wizard:\n",
        "    def __init__(self, name):\n",
        "        self.name = name\n",
        "        print(f'{name} 마법사가 생성되었습니다.')"
      ],
      "metadata": {
        "id": "IrFCDj3yYJjK"
      },
      "execution_count": null,
      "outputs": []
    },
    {
      "cell_type": "code",
      "source": [
        "class Wizard:\n",
        "    def __init__(self, name='None'):\n",
        "        self.name = name\n",
        "        print(f'{self.name} 마법사가 생성되었습니다.')\n",
        "\n",
        "    def __del__(self):\n",
        "        print(f'{self.name} 마법사가 소멸되었습니다.')"
      ],
      "metadata": {
        "id": "enCOgg3LYLSb"
      },
      "execution_count": null,
      "outputs": []
    },
    {
      "cell_type": "code",
      "source": [
        "player1 = Wizard('Stormbaby')\n",
        "player2 = player1\n",
        "del player1"
      ],
      "metadata": {
        "id": "PJQ-vOLCYMtX"
      },
      "execution_count": null,
      "outputs": []
    }
  ]
}