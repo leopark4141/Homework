{
  "nbformat": 4,
  "nbformat_minor": 0,
  "metadata": {
    "colab": {
      "provenance": [],
      "include_colab_link": true
    },
    "kernelspec": {
      "name": "python3",
      "display_name": "Python 3"
    },
    "language_info": {
      "name": "python"
    }
  },
  "cells": [
    {
      "cell_type": "markdown",
      "metadata": {
        "id": "view-in-github",
        "colab_type": "text"
      },
      "source": [
        "<a href=\"https://colab.research.google.com/github/leopark4141/Homework/blob/main/006_007_hw.ipynb\" target=\"_parent\"><img src=\"https://colab.research.google.com/assets/colab-badge.svg\" alt=\"Open In Colab\"/></a>"
      ]
    },
    {
      "cell_type": "code",
      "execution_count": null,
      "metadata": {
        "id": "AmL23TPx1ruE"
      },
      "outputs": [],
      "source": [
        "intdata=15\n",
        "floatdata=2.5\n",
        "complexdata=1+1j"
      ]
    },
    {
      "cell_type": "code",
      "source": [
        "istrue=True\n",
        "isfalse=False"
      ],
      "metadata": {
        "id": "Uule7R272DC8"
      },
      "execution_count": null,
      "outputs": []
    },
    {
      "cell_type": "code",
      "source": [
        "satData={1,2,3,4,5}"
      ],
      "metadata": {
        "id": "Gl5mowvw2Db6"
      },
      "execution_count": null,
      "outputs": []
    },
    {
      "cell_type": "code",
      "source": [
        "dictData={0:False,1:True}"
      ],
      "metadata": {
        "id": "JVZFVvRJ2Den"
      },
      "execution_count": null,
      "outputs": []
    },
    {
      "cell_type": "code",
      "source": [
        "print(\"안녕하세요 파이썬\")"
      ],
      "metadata": {
        "colab": {
          "base_uri": "https://localhost:8080/"
        },
        "id": "JKRu46y02DhS",
        "outputId": "ca3542d0-d773-4aa4-943a-d81de099bea2"
      },
      "execution_count": null,
      "outputs": [
        {
          "output_type": "stream",
          "name": "stdout",
          "text": [
            "안녕하세요 파이썬\n"
          ]
        }
      ]
    },
    {
      "cell_type": "code",
      "source": [
        "hello=\"안녕하세요 파이썬\"\n",
        "print(hello)"
      ],
      "metadata": {
        "colab": {
          "base_uri": "https://localhost:8080/"
        },
        "id": "LtQffVJR2Dj_",
        "outputId": "b1132a46-2e30-424d-bad8-220d25e4f3c9"
      },
      "execution_count": null,
      "outputs": [
        {
          "output_type": "stream",
          "name": "stdout",
          "text": [
            "안녕하세요 파이썬\n"
          ]
        }
      ]
    },
    {
      "cell_type": "code",
      "source": [
        "intdata1=1\n",
        "intdata2=2\n",
        "print(intdata1+intdata2)"
      ],
      "metadata": {
        "colab": {
          "base_uri": "https://localhost:8080/"
        },
        "id": "-gOREzD92Dms",
        "outputId": "52d39cbd-2128-47b7-8743-91142880a8d5"
      },
      "execution_count": null,
      "outputs": [
        {
          "output_type": "stream",
          "name": "stdout",
          "text": [
            "3\n"
          ]
        }
      ]
    },
    {
      "cell_type": "code",
      "source": [
        "name=\"홍길동\"\n",
        "phone=\"010-1234-5678\"\n",
        "print('이름',name,'폰번호',phone)"
      ],
      "metadata": {
        "colab": {
          "base_uri": "https://localhost:8080/"
        },
        "id": "NWHpc3w_6Dun",
        "outputId": "33132f7f-5296-4645-8330-dc82309d79e3"
      },
      "execution_count": null,
      "outputs": [
        {
          "output_type": "stream",
          "name": "stdout",
          "text": [
            "이름 홍길동 폰번호 010-1234-5678\n"
          ]
        }
      ]
    },
    {
      "cell_type": "code",
      "source": [
        "print('#',end='')\n",
        "print('#'*5)"
      ],
      "metadata": {
        "colab": {
          "base_uri": "https://localhost:8080/"
        },
        "id": "1wBvT4hw6D2k",
        "outputId": "3556ae31-8e9d-4424-96c6-f180a26eb573"
      },
      "execution_count": null,
      "outputs": [
        {
          "output_type": "stream",
          "name": "stdout",
          "text": [
            "######\n"
          ]
        }
      ]
    },
    {
      "cell_type": "code",
      "source": [
        "print(name,phone,sep=';')"
      ],
      "metadata": {
        "colab": {
          "base_uri": "https://localhost:8080/"
        },
        "id": "2mxN-Mda6D9f",
        "outputId": "a212bb4c-18e2-45cb-a8cb-16371fdc51b5"
      },
      "execution_count": null,
      "outputs": [
        {
          "output_type": "stream",
          "name": "stdout",
          "text": [
            "홍길동;010-1234-5678\n"
          ]
        }
      ]
    }
  ]
}