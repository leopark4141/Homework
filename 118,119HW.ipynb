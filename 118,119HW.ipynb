{
  "nbformat": 4,
  "nbformat_minor": 0,
  "metadata": {
    "colab": {
      "provenance": [],
      "authorship_tag": "ABX9TyNkslMiPt+93ameZsZBp0yv",
      "include_colab_link": true
    },
    "kernelspec": {
      "name": "python3",
      "display_name": "Python 3"
    },
    "language_info": {
      "name": "python"
    }
  },
  "cells": [
    {
      "cell_type": "markdown",
      "metadata": {
        "id": "view-in-github",
        "colab_type": "text"
      },
      "source": [
        "<a href=\"https://colab.research.google.com/github/leopark4141/Homework/blob/main/118%2C119HW.ipynb\" target=\"_parent\"><img src=\"https://colab.research.google.com/assets/colab-badge.svg\" alt=\"Open In Colab\"/></a>"
      ]
    },
    {
      "cell_type": "code",
      "execution_count": null,
      "metadata": {
        "id": "X_LBjP86VdLz"
      },
      "outputs": [],
      "source": [
        "greats = {'루피': 99, '조로': 95, '상디': 89, '나미': 97}\n",
        "levels = greats.values()\n",
        "print(list(levels)"
      ]
    },
    {
      "cell_type": "code",
      "source": [
        "greats['조로'] = 94\n",
        "print(list(levels))"
      ],
      "metadata": {
        "id": "P7io8T9NVg8x"
      },
      "execution_count": null,
      "outputs": []
    },
    {
      "cell_type": "code",
      "source": [
        "greats = {'루피': 99, '조로': 95, '상디': 89, '나미': 97}\n",
        "levels = reversed(greats)\n",
        "print(list(levels))"
      ],
      "metadata": {
        "id": "lF8SAjaPViNO"
      },
      "execution_count": null,
      "outputs": []
    }
  ]
}