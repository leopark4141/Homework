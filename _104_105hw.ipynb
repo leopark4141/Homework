{
  "nbformat": 4,
  "nbformat_minor": 0,
  "metadata": {
    "colab": {
      "provenance": [],
      "authorship_tag": "ABX9TyOZ5fBo9ITmJOq8udRDYYux",
      "include_colab_link": true
    },
    "kernelspec": {
      "name": "python3",
      "display_name": "Python 3"
    },
    "language_info": {
      "name": "python"
    }
  },
  "cells": [
    {
      "cell_type": "markdown",
      "metadata": {
        "id": "view-in-github",
        "colab_type": "text"
      },
      "source": [
        "<a href=\"https://colab.research.google.com/github/leopark4141/Homework/blob/main/_104_105hw.ipynb\" target=\"_parent\"><img src=\"https://colab.research.google.com/assets/colab-badge.svg\" alt=\"Open In Colab\"/></a>"
      ]
    },
    {
      "cell_type": "code",
      "execution_count": null,
      "metadata": {
        "id": "Ffs7DoRlDbz7"
      },
      "outputs": [],
      "source": [
        "population = {'서울': 9405740, '부산': 3322767, '인천': 2968428}\n",
        "print(population)"
      ]
    },
    {
      "cell_type": "code",
      "source": [
        "population = dict([('서울', 9405740), ('부산', 3322767), ('인천', 2968428)])\n",
        "print(population)"
      ],
      "metadata": {
        "id": "f3qfXCtLDhQL"
      },
      "execution_count": null,
      "outputs": []
    },
    {
      "cell_type": "code",
      "source": [
        "orddict = {'A': 65, 'B': 66, 'C': 67}\n",
        "print(f\"ASCII 값(A) = {orddict['A']}\")  # ASCII 값(A) = 65"
      ],
      "metadata": {
        "id": "FlSyG5hMDiTz"
      },
      "execution_count": null,
      "outputs": []
    },
    {
      "cell_type": "code",
      "source": [
        "ret = orddict[95]"
      ],
      "metadata": {
        "id": "CAm7muMqDj4p"
      },
      "execution_count": null,
      "outputs": []
    }
  ]
}