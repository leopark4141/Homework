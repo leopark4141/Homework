{
  "nbformat": 4,
  "nbformat_minor": 0,
  "metadata": {
    "colab": {
      "provenance": [],
      "authorship_tag": "ABX9TyNKu9Jx2DqGk48+njXa2dTn",
      "include_colab_link": true
    },
    "kernelspec": {
      "name": "python3",
      "display_name": "Python 3"
    },
    "language_info": {
      "name": "python"
    }
  },
  "cells": [
    {
      "cell_type": "markdown",
      "metadata": {
        "id": "view-in-github",
        "colab_type": "text"
      },
      "source": [
        "<a href=\"https://colab.research.google.com/github/leopark4141/Homework/blob/main/018_019hw.ipynb\" target=\"_parent\"><img src=\"https://colab.research.google.com/assets/colab-badge.svg\" alt=\"Open In Colab\"/></a>"
      ]
    },
    {
      "cell_type": "code",
      "execution_count": null,
      "metadata": {
        "colab": {
          "base_uri": "https://localhost:8080/"
        },
        "id": "tLdun8MIwMGG",
        "outputId": "a82126ac-db4a-43fa-824f-0891e8407cf1"
      },
      "outputs": [
        {
          "output_type": "stream",
          "name": "stdout",
          "text": [
            "3\n",
            "4\n",
            "5\n"
          ]
        }
      ],
      "source": [
        "x=0\n",
        "while x<10:\n",
        "  x=x+1\n",
        "  if x<3:\n",
        "    continue\n",
        "\n",
        "  print(x)\n",
        "  if x>4:\n",
        "    break"
      ]
    },
    {
      "cell_type": "code",
      "source": [
        "n=1\n",
        "total=0\n",
        "while True:\n",
        "  total=total+n\n",
        "  if total>100000:\n",
        "    print('1+2+~~ 값이 10만 보다 커지게 되는 n',n)\n",
        "    print('이때 총합은',total)\n",
        "    break\n",
        "  n=n+1"
      ],
      "metadata": {
        "colab": {
          "base_uri": "https://localhost:8080/"
        },
        "id": "qNVO7LYewQbq",
        "outputId": "cac053f5-1dd4-4c22-d68c-9ebda95a69e1"
      },
      "execution_count": null,
      "outputs": [
        {
          "output_type": "stream",
          "name": "stdout",
          "text": [
            "1+2+~~ 값이 10만 보다 커지게 되는 n 447\n",
            "이때 총합은 100128\n"
          ]
        }
      ]
    },
    {
      "cell_type": "code",
      "source": [
        "for sport in ['축','야']:\n",
        "  if sport=='축':\n",
        "    pass\n",
        "  if sport=='야':\n",
        "    pass\n"
      ],
      "metadata": {
        "id": "I-GsBkulwRWm"
      },
      "execution_count": null,
      "outputs": []
    },
    {
      "cell_type": "code",
      "source": [
        "def getimagelink(url):\n",
        "  pass"
      ],
      "metadata": {
        "id": "7gNnOL3uwRe-"
      },
      "execution_count": null,
      "outputs": []
    }
  ]
}