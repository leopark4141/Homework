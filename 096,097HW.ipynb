{
  "nbformat": 4,
  "nbformat_minor": 0,
  "metadata": {
    "colab": {
      "provenance": [],
      "authorship_tag": "ABX9TyOA5eGFOsBK+3CUQAtjx2Gi",
      "include_colab_link": true
    },
    "kernelspec": {
      "name": "python3",
      "display_name": "Python 3"
    },
    "language_info": {
      "name": "python"
    }
  },
  "cells": [
    {
      "cell_type": "markdown",
      "metadata": {
        "id": "view-in-github",
        "colab_type": "text"
      },
      "source": [
        "<a href=\"https://colab.research.google.com/github/leopark4141/Homework/blob/main/096%2C097HW.ipynb\" target=\"_parent\"><img src=\"https://colab.research.google.com/assets/colab-badge.svg\" alt=\"Open In Colab\"/></a>"
      ]
    },
    {
      "cell_type": "code",
      "execution_count": null,
      "metadata": {
        "id": "EApF1Wn-E2si"
      },
      "outputs": [],
      "source": [
        "bytesData = b'abcdef'\n",
        "data = bytesData.replace(b'ab', b'AB')\n",
        "print(data)"
      ]
    },
    {
      "cell_type": "code",
      "source": [
        "bytesData = b'abcdefabcdef'\n",
        "idx1 = bytesData.find(b'e')\n",
        "idx2 = bytesData.find(b'e', idx1+1)\n",
        "print(idx1, idx2)"
      ],
      "metadata": {
        "id": "zFa2tizTE7YB"
      },
      "execution_count": null,
      "outputs": []
    },
    {
      "cell_type": "code",
      "source": [
        "bytesData = b' abcdef '\n",
        "bytesData = bytesData.strip()\n",
        "print(bytesData)"
      ],
      "metadata": {
        "id": "hDyiePeEE8fC"
      },
      "execution_count": null,
      "outputs": []
    },
    {
      "cell_type": "code",
      "source": [
        "setData = {'사과', '배', '딸기', '수박', '오렌지', '사과'}\n",
        "print(setData)"
      ],
      "metadata": {
        "id": "V3J_PaneE9gz"
      },
      "execution_count": null,
      "outputs": []
    },
    {
      "cell_type": "code",
      "source": [
        "print(setData) # 한 번 더 호출"
      ],
      "metadata": {
        "id": "KlbL5FEzE-dc"
      },
      "execution_count": null,
      "outputs": []
    },
    {
      "cell_type": "code",
      "source": [
        "strData = 'abcabccdef'\n",
        "setData = set(strData)\n",
        "print(setData)"
      ],
      "metadata": {
        "id": "2WzUgoDSFARH"
      },
      "execution_count": null,
      "outputs": []
    },
    {
      "cell_type": "code",
      "source": [
        "fruits = ('사과', '배', '딸기', '수박', '배', '사과', '오렌지')\n",
        "strData = set(fruits)\n",
        "print(strData)"
      ],
      "metadata": {
        "id": "Xjf6En2eFCSj"
      },
      "execution_count": null,
      "outputs": []
    }
  ]
}