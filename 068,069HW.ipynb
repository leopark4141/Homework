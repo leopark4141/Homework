{
  "nbformat": 4,
  "nbformat_minor": 0,
  "metadata": {
    "colab": {
      "provenance": [],
      "authorship_tag": "ABX9TyNMMa/PsMOMZNh8juvF4pqU",
      "include_colab_link": true
    },
    "kernelspec": {
      "name": "python3",
      "display_name": "Python 3"
    },
    "language_info": {
      "name": "python"
    }
  },
  "cells": [
    {
      "cell_type": "markdown",
      "metadata": {
        "id": "view-in-github",
        "colab_type": "text"
      },
      "source": [
        "<a href=\"https://colab.research.google.com/github/leopark4141/Homework/blob/main/068%2C069HW.ipynb\" target=\"_parent\"><img src=\"https://colab.research.google.com/assets/colab-badge.svg\" alt=\"Open In Colab\"/></a>"
      ]
    },
    {
      "cell_type": "code",
      "execution_count": null,
      "metadata": {
        "id": "WWQ_j33OSeq3"
      },
      "outputs": [],
      "source": [
        "mystack = []"
      ]
    },
    {
      "cell_type": "code",
      "source": [
        "def putData(data):\n",
        "    mystack.append(data)"
      ],
      "metadata": {
        "id": "fJLvUCE0SiFg"
      },
      "execution_count": null,
      "outputs": []
    },
    {
      "cell_type": "code",
      "source": [
        "def popData():\n",
        "    if len(mystack) == 0:\n",
        "        return None\n",
        "    return mystack.pop()"
      ],
      "metadata": {
        "id": "Dzsd1SHySjCH"
      },
      "execution_count": null,
      "outputs": []
    },
    {
      "cell_type": "code",
      "source": [
        "putData('사과')\n",
        "putData([1, 2, 3])\n",
        "putData(3.141592)\n",
        "print(f'스택상태: {mystack}')"
      ],
      "metadata": {
        "id": "wLKslzeNSk_j"
      },
      "execution_count": null,
      "outputs": []
    },
    {
      "cell_type": "code",
      "source": [
        "ret = popData()\n",
        "while ret != None:\n",
        "    print(f'스택에서 데이터 추출: {ret}')\n",
        "    print(f'스택상태: {mystack}')\n",
        "    print()\n",
        "    ret = popData()"
      ],
      "metadata": {
        "id": "1uE05zqaSlb5"
      },
      "execution_count": null,
      "outputs": []
    },
    {
      "cell_type": "code",
      "source": [
        "import collections\n",
        "myqueue = collections.deque([])"
      ],
      "metadata": {
        "id": "ORZ-nkKFSmnz"
      },
      "execution_count": null,
      "outputs": []
    },
    {
      "cell_type": "code",
      "source": [
        "def putData(data):\n",
        "    myqueue.append(data)"
      ],
      "metadata": {
        "id": "v97BaSscSoxp"
      },
      "execution_count": null,
      "outputs": []
    },
    {
      "cell_type": "code",
      "source": [
        "def popData():\n",
        "    if len(myqueue) == 0:\n",
        "        return None\n",
        "    return myqueue.popleft()"
      ],
      "metadata": {
        "id": "ioiFFvLWS10y"
      },
      "execution_count": null,
      "outputs": []
    },
    {
      "cell_type": "code",
      "source": [
        "putData('사과')\n",
        "putData([1, 2, 3])\n",
        "putData(3.141592)\n",
        "print(f'큐 상태: {myqueue}')"
      ],
      "metadata": {
        "id": "5QS5M_ZETY0V"
      },
      "execution_count": null,
      "outputs": []
    },
    {
      "cell_type": "code",
      "source": [
        "ret = popData()\n",
        "while ret != None:\n",
        "    print(f'큐에서 데이터 추출: {ret}')\n",
        "    print(f'큐 상태: {myqueue}')\n",
        "    print('--------------------')\n",
        "    ret = popData()"
      ],
      "metadata": {
        "id": "-ysXEnEETb3H"
      },
      "execution_count": null,
      "outputs": []
    }
  ]
}