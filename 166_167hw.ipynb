{
  "nbformat": 4,
  "nbformat_minor": 0,
  "metadata": {
    "colab": {
      "provenance": [],
      "authorship_tag": "ABX9TyPHR1+TXKp41VkaqOpPBMUY",
      "include_colab_link": true
    },
    "kernelspec": {
      "name": "python3",
      "display_name": "Python 3"
    },
    "language_info": {
      "name": "python"
    }
  },
  "cells": [
    {
      "cell_type": "markdown",
      "metadata": {
        "id": "view-in-github",
        "colab_type": "text"
      },
      "source": [
        "<a href=\"https://colab.research.google.com/github/leopark4141/Homework/blob/main/166_167hw.ipynb\" target=\"_parent\"><img src=\"https://colab.research.google.com/assets/colab-badge.svg\" alt=\"Open In Colab\"/></a>"
      ]
    },
    {
      "cell_type": "code",
      "execution_count": null,
      "metadata": {
        "id": "DMRJJjkLdBji"
      },
      "outputs": [],
      "source": [
        "from os import listdir\n",
        "from os.path import isdir\n",
        "\n",
        "files = listdir()\n",
        "fileList = []\n",
        "dirList = []\n",
        "\n",
        "for file in files:\n",
        "    if isdir(file):\n",
        "        dirList.append(f'<DIR>{file}')\n",
        "    else:\n",
        "        fileList.append(file)\n",
        "\n",
        "dirList.sort()\n",
        "fileList.sort()\n",
        "\n",
        "for d in dirList:\n",
        "    print(d)\n",
        "\n",
        "for f in fileList:\n",
        "    print(f)"
      ]
    },
    {
      "cell_type": "code",
      "source": [
        "from os import listdir\n",
        "from os.path import isdir\n",
        "\n",
        "files = listdir()\n",
        "fileList = []\n",
        "dirList = []\n",
        "\n",
        "for file in files:\n",
        "    if isdir(file):\n",
        "        dirList.append(f'<DIR>{file}')\n",
        "    else:\n",
        "        fileList.append(file)\n",
        "\n",
        "dirList.sort()\n",
        "fileList.sort()\n",
        "\n",
        "for d in dirList:\n",
        "    print(d)\n",
        "\n",
        "for f in fileList:\n",
        "    print(f)"
      ],
      "metadata": {
        "id": "b11ZxbVZdEyw"
      },
      "execution_count": null,
      "outputs": []
    },
    {
      "cell_type": "code",
      "source": [
        "profile = {\n",
        "    \"name\": \"usc870\",\n",
        "    \"age\": 45,\n",
        "    \"nationality\": \"usc704ub989lub77c\",\n",
        "    \"skill\": [\"uc49duc29\", \"lub3c0uc2e0\"],\n",
        "    \"alive\": True\n",
        "}\n",
        "with open('profile.json', 'w') as f:\n",
        "    json.dump(profile, f, indent=4)"
      ],
      "metadata": {
        "id": "S7CKgj8UdHCX"
      },
      "execution_count": null,
      "outputs": []
    }
  ]
}