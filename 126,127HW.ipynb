{
  "nbformat": 4,
  "nbformat_minor": 0,
  "metadata": {
    "colab": {
      "provenance": [],
      "authorship_tag": "ABX9TyMxMQbFoBoCaV16t12V8jtD",
      "include_colab_link": true
    },
    "kernelspec": {
      "name": "python3",
      "display_name": "Python 3"
    },
    "language_info": {
      "name": "python"
    }
  },
  "cells": [
    {
      "cell_type": "markdown",
      "metadata": {
        "id": "view-in-github",
        "colab_type": "text"
      },
      "source": [
        "<a href=\"https://colab.research.google.com/github/leopark4141/Homework/blob/main/126%2C127HW.ipynb\" target=\"_parent\"><img src=\"https://colab.research.google.com/assets/colab-badge.svg\" alt=\"Open In Colab\"/></a>"
      ]
    },
    {
      "cell_type": "code",
      "execution_count": null,
      "metadata": {
        "id": "reOQ54FJWkZT"
      },
      "outputs": [],
      "source": [
        "def func(param):\n",
        "    localData = 57\n",
        "    print(param - localData)\n",
        "    return param"
      ]
    },
    {
      "cell_type": "code",
      "source": [
        "param = 10\n",
        "result = func(param)\n",
        "print(f'param={param}')\n",
        "print(f'param={param}, result={result}')"
      ],
      "metadata": {
        "id": "lNJEPXvPWn1q"
      },
      "execution_count": null,
      "outputs": []
    },
    {
      "cell_type": "code",
      "source": [
        "param = 10\n",
        "\n",
        "def func():\n",
        "    global param\n",
        "    param = 20\n",
        "    return\n",
        "\n",
        "func()\n",
        "print(f'param={param}')"
      ],
      "metadata": {
        "id": "7zn9WoncWrJt"
      },
      "execution_count": null,
      "outputs": []
    },
    {
      "cell_type": "code",
      "source": [
        "def reverse(args):\n",
        "    result = list(args)\n",
        "    result.reverse()\n",
        "    return result\n",
        "\n",
        "ret = reverse(['가', '나', '다', '라'])\n",
        "print(ret)"
      ],
      "metadata": {
        "id": "z6VkDny1WsCG"
      },
      "execution_count": null,
      "outputs": []
    }
  ]
}