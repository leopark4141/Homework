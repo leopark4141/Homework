{
  "nbformat": 4,
  "nbformat_minor": 0,
  "metadata": {
    "colab": {
      "provenance": [],
      "authorship_tag": "ABX9TyOch92yiBVq3uIB9HiCo1sa",
      "include_colab_link": true
    },
    "kernelspec": {
      "name": "python3",
      "display_name": "Python 3"
    },
    "language_info": {
      "name": "python"
    }
  },
  "cells": [
    {
      "cell_type": "markdown",
      "metadata": {
        "id": "view-in-github",
        "colab_type": "text"
      },
      "source": [
        "<a href=\"https://colab.research.google.com/github/leopark4141/Homework/blob/main/138_139hw.ipynb\" target=\"_parent\"><img src=\"https://colab.research.google.com/assets/colab-badge.svg\" alt=\"Open In Colab\"/></a>"
      ]
    },
    {
      "cell_type": "code",
      "execution_count": null,
      "metadata": {
        "id": "gSz7Tl2fY4jW"
      },
      "outputs": [],
      "source": [
        "fileList = ['file1.jpg', 'file2.jpg', 'file3.jpg']\n",
        "for i in range(4):\n",
        "    try:\n",
        "        fname = fileList[i]\n",
        "        print(f'파일명: {fname}')\n",
        "    except IndexError:\n",
        "        print('파일명 리스트 index 오류 발생!')\n",
        "    else:\n",
        "        print(f'{fname} 파일명을 성공적으로 처리했습니다.')"
      ]
    },
    {
      "cell_type": "code",
      "source": [
        "fileList = ['file1.jpg', 'file2.jpg', 'file3.jpg']\n",
        "for i in range(4):\n",
        "    try:\n",
        "        fname = fileList[i]\n",
        "        print(f'파일명: {fname}')\n",
        "    except IndexError:\n",
        "        print('파일명 리스트 index 오류 발생!')\n",
        "    else:\n",
        "        print(f'{fname} 파일명을 성공적으로 처리했습니다.')\n",
        "    finally:\n",
        "        print('파일명 검수작업을 종료합니다.')"
      ],
      "metadata": {
        "id": "5mKv38RTY8tV"
      },
      "execution_count": null,
      "outputs": []
    }
  ]
}