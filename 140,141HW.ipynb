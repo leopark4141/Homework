{
  "nbformat": 4,
  "nbformat_minor": 0,
  "metadata": {
    "colab": {
      "provenance": [],
      "authorship_tag": "ABX9TyPnJHSTCV3WA0t4PxtoKuD+",
      "include_colab_link": true
    },
    "kernelspec": {
      "name": "python3",
      "display_name": "Python 3"
    },
    "language_info": {
      "name": "python"
    }
  },
  "cells": [
    {
      "cell_type": "markdown",
      "metadata": {
        "id": "view-in-github",
        "colab_type": "text"
      },
      "source": [
        "<a href=\"https://colab.research.google.com/github/leopark4141/Homework/blob/main/140%2C141HW.ipynb\" target=\"_parent\"><img src=\"https://colab.research.google.com/assets/colab-badge.svg\" alt=\"Open In Colab\"/></a>"
      ]
    },
    {
      "cell_type": "code",
      "execution_count": null,
      "metadata": {
        "id": "ZLltwZQ-ZFsL"
      },
      "outputs": [],
      "source": [
        "try:\n",
        "    result = 10 / 0\n",
        "except Exception as e:\n",
        "    print(e.__class__.__name__)\n",
        "    print(e)"
      ]
    },
    {
      "cell_type": "code",
      "source": [
        "limit = range(10)\n",
        "try:\n",
        "    num = int(input('숫자를 입력하세요: '))\n",
        "    print(limit[num])\n",
        "except ValueError:\n",
        "    print('입력값은 숫자여야 합니다.')\n",
        "except IndexError:\n",
        "    print('리스트의 범위를 벗어났습니다.')"
      ],
      "metadata": {
        "id": "71EyY7dsZI80"
      },
      "execution_count": null,
      "outputs": []
    }
  ]
}