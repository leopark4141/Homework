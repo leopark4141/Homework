{
  "nbformat": 4,
  "nbformat_minor": 0,
  "metadata": {
    "colab": {
      "provenance": [],
      "name": " 026,027HW",
      "authorship_tag": "ABX9TyPpj6jEqSZKHBcBgc3ZxqDI",
      "include_colab_link": true
    },
    "kernelspec": {
      "name": "python3",
      "display_name": "Python 3"
    },
    "language_info": {
      "name": "python"
    }
  },
  "cells": [
    {
      "cell_type": "markdown",
      "metadata": {
        "id": "view-in-github",
        "colab_type": "text"
      },
      "source": [
        "<a href=\"https://colab.research.google.com/github/leopark4141/Homework/blob/main/026%2C027HW.ipynb\" target=\"_parent\"><img src=\"https://colab.research.google.com/assets/colab-badge.svg\" alt=\"Open In Colab\"/></a>"
      ]
    },
    {
      "cell_type": "code",
      "execution_count": null,
      "metadata": {
        "id": "8CMwfNeF2eOC"
      },
      "outputs": [],
      "source": [
        "intdata1=20"
      ]
    },
    {
      "cell_type": "code",
      "source": [
        "octdata=0o24\n",
        "hexdata=0x14"
      ],
      "metadata": {
        "id": "E39u8v4Q2gps"
      },
      "execution_count": null,
      "outputs": []
    },
    {
      "cell_type": "code",
      "source": [
        "fdata1=1.0\n",
        "fdata2=2."
      ],
      "metadata": {
        "id": "7Ou4e70K2g5p"
      },
      "execution_count": null,
      "outputs": []
    },
    {
      "cell_type": "code",
      "source": [
        "intdata1=5\n",
        "intdata2=10\n",
        "ret=intdata2/intdata1\n",
        "print(type(ret))"
      ],
      "metadata": {
        "colab": {
          "base_uri": "https://localhost:8080/"
        },
        "id": "hC8qyzwn2hIR",
        "outputId": "8a4e9246-cddb-4dc3-9c77-1e8d2f035e1d"
      },
      "execution_count": null,
      "outputs": [
        {
          "output_type": "stream",
          "name": "stdout",
          "text": [
            "<class 'float'>\n"
          ]
        }
      ]
    },
    {
      "cell_type": "code",
      "source": [
        "numdata=2e2\n",
        "print(type(numdata))"
      ],
      "metadata": {
        "colab": {
          "base_uri": "https://localhost:8080/"
        },
        "id": "674K9DK72hTs",
        "outputId": "542c8820-970c-4c07-fde4-e12d669a6a0a"
      },
      "execution_count": null,
      "outputs": [
        {
          "output_type": "stream",
          "name": "stdout",
          "text": [
            "<class 'float'>\n"
          ]
        }
      ]
    },
    {
      "cell_type": "code",
      "source": [
        "cdata1=1+1j\n",
        "cdata2=complex(1,1)\n",
        "print(cdata1 == cdata2)"
      ],
      "metadata": {
        "colab": {
          "base_uri": "https://localhost:8080/"
        },
        "id": "kcuh-utx2h2L",
        "outputId": "08ffc6c4-e0de-4b2e-9c76-b60b590970f6"
      },
      "execution_count": null,
      "outputs": [
        {
          "output_type": "stream",
          "name": "stdout",
          "text": [
            "True\n"
          ]
        }
      ]
    },
    {
      "cell_type": "code",
      "source": [
        "print(cdata1.real)\n",
        "print(cdata2.imag)"
      ],
      "metadata": {
        "colab": {
          "base_uri": "https://localhost:8080/"
        },
        "id": "I6yffIh82h_1",
        "outputId": "e65defa1-8744-480b-88ba-302f9d1cd948"
      },
      "execution_count": null,
      "outputs": [
        {
          "output_type": "stream",
          "name": "stdout",
          "text": [
            "1.0\n",
            "1.0\n"
          ]
        }
      ]
    },
    {
      "cell_type": "code",
      "source": [
        "complexdata1=1-5j\n",
        "complexdata2=complex(2,3)\n",
        "print(complexdata1.conjugate())\n",
        "print(complexdata2.conjugate())"
      ],
      "metadata": {
        "colab": {
          "base_uri": "https://localhost:8080/"
        },
        "id": "mC3NITLy2iKA",
        "outputId": "47c1cfce-7c9f-41cc-8b33-c10612e22d4a"
      },
      "execution_count": null,
      "outputs": [
        {
          "output_type": "stream",
          "name": "stdout",
          "text": [
            "(1+5j)\n",
            "(2-3j)\n"
          ]
        }
      ]
    }
  ]
}