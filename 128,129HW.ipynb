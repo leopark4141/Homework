{
  "nbformat": 4,
  "nbformat_minor": 0,
  "metadata": {
    "colab": {
      "provenance": [],
      "authorship_tag": "ABX9TyMq9Fm7pVUMl+5MGLC+yi0L",
      "include_colab_link": true
    },
    "kernelspec": {
      "name": "python3",
      "display_name": "Python 3"
    },
    "language_info": {
      "name": "python"
    }
  },
  "cells": [
    {
      "cell_type": "markdown",
      "metadata": {
        "id": "view-in-github",
        "colab_type": "text"
      },
      "source": [
        "<a href=\"https://colab.research.google.com/github/leopark4141/Homework/blob/main/128%2C129HW.ipynb\" target=\"_parent\"><img src=\"https://colab.research.google.com/assets/colab-badge.svg\" alt=\"Open In Colab\"/></a>"
      ]
    },
    {
      "cell_type": "code",
      "execution_count": null,
      "metadata": {
        "id": "HUQATuyDW3e1"
      },
      "outputs": [],
      "source": [
        "r = lambda x: x + '.txt'\n",
        "print(r('readme'))"
      ]
    },
    {
      "cell_type": "code",
      "source": [
        "r = lambda x: x[1]\n",
        "print(r((3, 10))"
      ],
      "metadata": {
        "id": "sVQFXxEeW60x"
      },
      "execution_count": null,
      "outputs": []
    },
    {
      "cell_type": "code",
      "source": [
        "def setLevel(character: str, level: int) -> None:\n",
        "    global greats\n",
        "    greats[character] = level"
      ],
      "metadata": {
        "id": "CeU7EbQFW8c5"
      },
      "execution_count": null,
      "outputs": []
    },
    {
      "cell_type": "code",
      "source": [
        "greats = {'루피': 99, '조로': 95, '상디': 89}\n",
        "setLevel('루피', 13)\n",
        "print(greats)"
      ],
      "metadata": {
        "id": "Rk-kMGmpXAMF"
      },
      "execution_count": null,
      "outputs": []
    }
  ]
}