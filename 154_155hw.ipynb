{
  "nbformat": 4,
  "nbformat_minor": 0,
  "metadata": {
    "colab": {
      "provenance": [],
      "authorship_tag": "ABX9TyP3Jp+f6TellZFQqRH57yi5",
      "include_colab_link": true
    },
    "kernelspec": {
      "name": "python3",
      "display_name": "Python 3"
    },
    "language_info": {
      "name": "python"
    }
  },
  "cells": [
    {
      "cell_type": "markdown",
      "metadata": {
        "id": "view-in-github",
        "colab_type": "text"
      },
      "source": [
        "<a href=\"https://colab.research.google.com/github/leopark4141/Homework/blob/main/154_155hw.ipynb\" target=\"_parent\"><img src=\"https://colab.research.google.com/assets/colab-badge.svg\" alt=\"Open In Colab\"/></a>"
      ]
    },
    {
      "cell_type": "code",
      "execution_count": null,
      "metadata": {
        "id": "C5CcCqotbT9E"
      },
      "outputs": [],
      "source": [
        "with open('prophet_en.txt', 'r') as f:\n",
        "    f.seek(335)\n",
        "    data = f.read()\n",
        "    print(data)"
      ]
    },
    {
      "cell_type": "code",
      "source": [
        "with open('prophet_en.txt', 'r') as f:\n",
        "    line = f.readline()\n",
        "    while line != '':\n",
        "        print(line.strip())\n",
        "        line = f.readline()"
      ],
      "metadata": {
        "id": "0W3NoYTYbW9q"
      },
      "execution_count": null,
      "outputs": []
    }
  ]
}