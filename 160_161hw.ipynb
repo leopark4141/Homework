{
  "nbformat": 4,
  "nbformat_minor": 0,
  "metadata": {
    "colab": {
      "provenance": [],
      "authorship_tag": "ABX9TyPd5ctwZGo5qY0WuMwMwxSu",
      "include_colab_link": true
    },
    "kernelspec": {
      "name": "python3",
      "display_name": "Python 3"
    },
    "language_info": {
      "name": "python"
    }
  },
  "cells": [
    {
      "cell_type": "markdown",
      "metadata": {
        "id": "view-in-github",
        "colab_type": "text"
      },
      "source": [
        "<a href=\"https://colab.research.google.com/github/leopark4141/Homework/blob/main/160_161hw.ipynb\" target=\"_parent\"><img src=\"https://colab.research.google.com/assets/colab-badge.svg\" alt=\"Open In Colab\"/></a>"
      ]
    },
    {
      "cell_type": "code",
      "execution_count": null,
      "metadata": {
        "id": "CIF8AcXLcDln"
      },
      "outputs": [],
      "source": [
        "from os import rename\n",
        "src = 'sunrise_copied.jpg'\n",
        "dst = 'sunrise2.jpg'\n",
        "rename(src, dst)"
      ]
    },
    {
      "cell_type": "code",
      "source": [
        "from glob import glob\n",
        "target = '*.txt'\n",
        "ret = glob(target)\n",
        "print(ret)"
      ],
      "metadata": {
        "id": "8kALlX7XcGcf"
      },
      "execution_count": null,
      "outputs": []
    }
  ]
}