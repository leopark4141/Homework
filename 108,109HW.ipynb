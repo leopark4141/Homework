{
  "nbformat": 4,
  "nbformat_minor": 0,
  "metadata": {
    "colab": {
      "provenance": [],
      "authorship_tag": "ABX9TyOAoPNGwPSa1VeX55PJIBk/",
      "include_colab_link": true
    },
    "kernelspec": {
      "name": "python3",
      "display_name": "Python 3"
    },
    "language_info": {
      "name": "python"
    }
  },
  "cells": [
    {
      "cell_type": "markdown",
      "metadata": {
        "id": "view-in-github",
        "colab_type": "text"
      },
      "source": [
        "<a href=\"https://colab.research.google.com/github/leopark4141/Homework/blob/main/108%2C109HW.ipynb\" target=\"_parent\"><img src=\"https://colab.research.google.com/assets/colab-badge.svg\" alt=\"Open In Colab\"/></a>"
      ]
    },
    {
      "cell_type": "code",
      "execution_count": null,
      "metadata": {
        "id": "xVodzaNlD5hf"
      },
      "outputs": [],
      "source": [
        "names = {'Mary': 19999, 'Cris': 2111, 'Amy': 9778, 'Tom': 2245, 'Bob': 27115}\n",
        "names['Mary'] = 20000\n",
        "print(names)"
      ]
    },
    {
      "cell_type": "code",
      "source": [
        "names = {'Mary': 19999, 'Cris': 2111, 'Amy': 9778}\n",
        "population = {'Seoul': 1000}\n",
        "names.setdefault('Sam')\n",
        "population.setdefault('Busan')\n",
        "print(names['Sam'], population['Busan'])"
      ],
      "metadata": {
        "id": "iCsyWFXnD50W"
      },
      "execution_count": null,
      "outputs": []
    },
    {
      "cell_type": "code",
      "source": [
        "population = names.setdefault('Tom', 1004)\n",
        "print(names, population)"
      ],
      "metadata": {
        "id": "qiqSUOTND9vE"
      },
      "execution_count": null,
      "outputs": []
    }
  ]
}