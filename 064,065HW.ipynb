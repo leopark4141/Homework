{
  "nbformat": 4,
  "nbformat_minor": 0,
  "metadata": {
    "colab": {
      "provenance": [],
      "authorship_tag": "ABX9TyM+t/aDtZhgpXqohChWF1rB",
      "include_colab_link": true
    },
    "kernelspec": {
      "name": "python3",
      "display_name": "Python 3"
    },
    "language_info": {
      "name": "python"
    }
  },
  "cells": [
    {
      "cell_type": "markdown",
      "metadata": {
        "id": "view-in-github",
        "colab_type": "text"
      },
      "source": [
        "<a href=\"https://colab.research.google.com/github/leopark4141/Homework/blob/main/064%2C065HW.ipynb\" target=\"_parent\"><img src=\"https://colab.research.google.com/assets/colab-badge.svg\" alt=\"Open In Colab\"/></a>"
      ]
    },
    {
      "cell_type": "code",
      "execution_count": null,
      "metadata": {
        "id": "PF4uiw8URx1Z"
      },
      "outputs": [],
      "source": [
        "numbers = [14, 5, 18, 45, 10, 43]\n",
        "for _ in range(len(numbers)):\n",
        "    ret = numbers.pop()\n",
        "    print(f'pop()으로 추출된 값: {ret}, numbers = {numbers}')"
      ]
    },
    {
      "cell_type": "code",
      "source": [
        "numbers = [14, 5, 18, 45, 10, 43]\n",
        "ret = numbers.pop(3)\n",
        "print(f'pop()으로 추출된 값: {ret}, numbers = {numbers}')"
      ],
      "metadata": {
        "id": "I5VNMLP_SHQX"
      },
      "execution_count": null,
      "outputs": []
    },
    {
      "cell_type": "code",
      "source": [
        "numbers = [1, 2, 3, 4, 5]\n",
        "ret = reversed(numbers)\n",
        "print(list(ret))\n",
        "print(numbers)"
      ],
      "metadata": {
        "id": "a3deWQhZSIgC"
      },
      "execution_count": null,
      "outputs": []
    },
    {
      "cell_type": "code",
      "source": [
        "numbers = [1, 2, 3, 4, 5]\n",
        "numbers.reverse()\n",
        "print(numbers)"
      ],
      "metadata": {
        "id": "tkNHiK1CSKYF"
      },
      "execution_count": null,
      "outputs": []
    }
  ]
}