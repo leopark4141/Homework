{
  "nbformat": 4,
  "nbformat_minor": 0,
  "metadata": {
    "colab": {
      "provenance": [],
      "authorship_tag": "ABX9TyMh1TfSQXBPMoDq31JQaghu",
      "include_colab_link": true
    },
    "kernelspec": {
      "name": "python3",
      "display_name": "Python 3"
    },
    "language_info": {
      "name": "python"
    }
  },
  "cells": [
    {
      "cell_type": "markdown",
      "metadata": {
        "id": "view-in-github",
        "colab_type": "text"
      },
      "source": [
        "<a href=\"https://colab.research.google.com/github/leopark4141/Homework/blob/main/130%2C131HW.ipynb\" target=\"_parent\"><img src=\"https://colab.research.google.com/assets/colab-badge.svg\" alt=\"Open In Colab\"/></a>"
      ]
    },
    {
      "cell_type": "code",
      "execution_count": null,
      "metadata": {
        "id": "fLAUZjwhXNn4"
      },
      "outputs": [],
      "source": [
        "def report():\n",
        "    print('리포트가 호출되었습니다.')\n",
        "\n",
        "def makeNumber():\n",
        "    for i in range(3):\n",
        "        report()"
      ]
    },
    {
      "cell_type": "code",
      "source": [
        "def drawLine():\n",
        "    print('-' * 50)\n",
        "\n",
        "def makeForm(func):\n",
        "    def wrapper():\n",
        "        drawLine()\n",
        "        func()\n",
        "        drawLine()\n",
        "    return wrapper"
      ],
      "metadata": {
        "id": "_KaGDJqvXUZw"
      },
      "execution_count": null,
      "outputs": []
    },
    {
      "cell_type": "code",
      "source": [
        "report_new = makeForm(report)\n",
        "report_new()"
      ],
      "metadata": {
        "id": "juPNc9dgXgQI"
      },
      "execution_count": null,
      "outputs": []
    },
    {
      "cell_type": "code",
      "source": [
        "@makeForm\n",
        "def report():\n",
        "    print('리포트가 호출되었습니다.')"
      ],
      "metadata": {
        "id": "xPFDWfbPXiAW"
      },
      "execution_count": null,
      "outputs": []
    },
    {
      "cell_type": "code",
      "source": [
        "def decorator(func):\n",
        "    def wrapper(*args, **kwargs):\n",
        "        print('데코레이터 시작')\n",
        "        func(*args, **kwargs)\n",
        "        print('데코레이터 종료')\n",
        "    return wrapper"
      ],
      "metadata": {
        "id": "582aLpZoXjif"
      },
      "execution_count": null,
      "outputs": []
    },
    {
      "cell_type": "code",
      "source": [
        "class Wizard:\n",
        "    def setName(self, name):\n",
        "        self.name = name"
      ],
      "metadata": {
        "id": "ZlnkmKokXktI"
      },
      "execution_count": null,
      "outputs": []
    },
    {
      "cell_type": "code",
      "source": [],
      "metadata": {
        "id": "hraN-0mqXmTZ"
      },
      "execution_count": null,
      "outputs": []
    }
  ]
}