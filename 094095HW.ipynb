{
  "nbformat": 4,
  "nbformat_minor": 0,
  "metadata": {
    "colab": {
      "provenance": [],
      "authorship_tag": "ABX9TyPTogPbMZxuy7ozRzaTSRic",
      "include_colab_link": true
    },
    "kernelspec": {
      "name": "python3",
      "display_name": "Python 3"
    },
    "language_info": {
      "name": "python"
    }
  },
  "cells": [
    {
      "cell_type": "markdown",
      "metadata": {
        "id": "view-in-github",
        "colab_type": "text"
      },
      "source": [
        "<a href=\"https://colab.research.google.com/github/leopark4141/Homework/blob/main/094095HW.ipynb\" target=\"_parent\"><img src=\"https://colab.research.google.com/assets/colab-badge.svg\" alt=\"Open In Colab\"/></a>"
      ]
    },
    {
      "cell_type": "code",
      "execution_count": null,
      "metadata": {
        "id": "kU6zcz6tElLG"
      },
      "outputs": [],
      "source": [
        "hexData = b'Python\\xf8\\xfa'.hex()\n",
        "print(hexData)"
      ]
    },
    {
      "cell_type": "code",
      "source": [
        "hexData = b'Python\\xf8\\xfa\\x80'.hex('-')\n",
        "print(hexData)"
      ],
      "metadata": {
        "id": "zMBzJ1WREpSr"
      },
      "execution_count": null,
      "outputs": []
    },
    {
      "cell_type": "code",
      "source": [
        "hexData = b'Python\\xf8\\xfa\\x80'.hex('-', 2)\n",
        "print(hexData)"
      ],
      "metadata": {
        "id": "MbfZ1vqQEqje"
      },
      "execution_count": null,
      "outputs": []
    },
    {
      "cell_type": "code",
      "source": [
        "bytesData = b'\\xec\\x95\\x88\\xeb\\x85\\x95'\n",
        "strData = bytesData.decode()\n",
        "print(strData)"
      ],
      "metadata": {
        "id": "WJ0C0MKQEr_a"
      },
      "execution_count": null,
      "outputs": []
    },
    {
      "cell_type": "code",
      "source": [
        "bytesData = b'\\xec\\x95\\x88\\xeb\\x85\\x95'\n",
        "strData = bytesData.decode()\n",
        "print(strData)"
      ],
      "metadata": {
        "id": "UbEzRfwhEt15"
      },
      "execution_count": null,
      "outputs": []
    },
    {
      "cell_type": "code",
      "source": [
        "bytesData = b'\\xbb\\xea\\xbb\\xe1\\xbb\\xe7\\xbb\\xe4'\n",
        "strData = bytesData.decode('cp949')\n",
        "print(strData)"
      ],
      "metadata": {
        "id": "UyqCwoyZEuxW"
      },
      "execution_count": null,
      "outputs": []
    }
  ]
}