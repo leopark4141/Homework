{
  "nbformat": 4,
  "nbformat_minor": 0,
  "metadata": {
    "colab": {
      "provenance": [],
      "authorship_tag": "ABX9TyOc41q60wnTlDVzN5YEKkvN",
      "include_colab_link": true
    },
    "kernelspec": {
      "name": "python3",
      "display_name": "Python 3"
    },
    "language_info": {
      "name": "python"
    }
  },
  "cells": [
    {
      "cell_type": "markdown",
      "metadata": {
        "id": "view-in-github",
        "colab_type": "text"
      },
      "source": [
        "<a href=\"https://colab.research.google.com/github/leopark4141/Homework/blob/main/116%2C117HW.ipynb\" target=\"_parent\"><img src=\"https://colab.research.google.com/assets/colab-badge.svg\" alt=\"Open In Colab\"/></a>"
      ]
    },
    {
      "cell_type": "code",
      "execution_count": null,
      "metadata": {
        "id": "GLOxaip6VKvn"
      },
      "outputs": [],
      "source": [
        "greats = {'문익점': '목화', '장영실': '측우기', '정약용': '거중기'}\n",
        "for name, item in greats.items():\n",
        "    print(f'{name}의 발명품은 {item}입니다.')"
      ]
    },
    {
      "cell_type": "code",
      "source": [
        "del greats['문익점']\n",
        "print(list(greats))"
      ],
      "metadata": {
        "id": "40jhQWPIVRER"
      },
      "execution_count": null,
      "outputs": []
    },
    {
      "cell_type": "code",
      "source": [
        "greats = {'문익점': '목화', '장영실': '측우기', '정약용': '거중기'}\n",
        "general_names = greats.keys()\n",
        "for i, name in enumerate(general_names, start=1):\n",
        "    print(f'{i}번째 위인은 {name}입니다.')"
      ],
      "metadata": {
        "id": "q-pCESqwVSMw"
      },
      "execution_count": null,
      "outputs": []
    }
  ]
}