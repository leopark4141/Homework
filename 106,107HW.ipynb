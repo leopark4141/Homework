{
  "nbformat": 4,
  "nbformat_minor": 0,
  "metadata": {
    "colab": {
      "provenance": [],
      "authorship_tag": "ABX9TyOKUtBPmP8INJJGWAi4OXVU",
      "include_colab_link": true
    },
    "kernelspec": {
      "name": "python3",
      "display_name": "Python 3"
    },
    "language_info": {
      "name": "python"
    }
  },
  "cells": [
    {
      "cell_type": "markdown",
      "metadata": {
        "id": "view-in-github",
        "colab_type": "text"
      },
      "source": [
        "<a href=\"https://colab.research.google.com/github/leopark4141/Homework/blob/main/106%2C107HW.ipynb\" target=\"_parent\"><img src=\"https://colab.research.google.com/assets/colab-badge.svg\" alt=\"Open In Colab\"/></a>"
      ]
    },
    {
      "cell_type": "code",
      "execution_count": null,
      "metadata": {
        "id": "rmAzabw_Dq00"
      },
      "outputs": [],
      "source": [
        "names = {'Mary': 19999, 'Cris': 2111, 'Amy': 9778, 'Tom': 2245}\n",
        "ret1 = names.get('Cris')\n",
        "ret2 = names.get('Sams')\n",
        "print(ret1, ret2)"
      ]
    },
    {
      "cell_type": "code",
      "source": [
        "ret1 = names.get('Cris')\n",
        "ret2 = names.get('Sams', 0)\n",
        "print(ret1 + ret2)"
      ],
      "metadata": {
        "id": "I_1AwgDNDuXI"
      },
      "execution_count": null,
      "outputs": []
    },
    {
      "cell_type": "code",
      "source": [
        "names = {'Mary': 19999, 'Cris': 2111, 'Amy': 9778, 'Tom': 2245}\n",
        "keylist = list(names)\n",
        "print(keylist)"
      ],
      "metadata": {
        "id": "zEEce6_7DvkL"
      },
      "execution_count": null,
      "outputs": []
    }
  ]
}