{
  "nbformat": 4,
  "nbformat_minor": 0,
  "metadata": {
    "colab": {
      "provenance": [],
      "authorship_tag": "ABX9TyPpdBe4P4SELdPSIsLayKmw",
      "include_colab_link": true
    },
    "kernelspec": {
      "name": "python3",
      "display_name": "Python 3"
    },
    "language_info": {
      "name": "python"
    }
  },
  "cells": [
    {
      "cell_type": "markdown",
      "metadata": {
        "id": "view-in-github",
        "colab_type": "text"
      },
      "source": [
        "<a href=\"https://colab.research.google.com/github/leopark4141/Homework/blob/main/110%2C111HW.ipynb\" target=\"_parent\"><img src=\"https://colab.research.google.com/assets/colab-badge.svg\" alt=\"Open In Colab\"/></a>"
      ]
    },
    {
      "cell_type": "code",
      "execution_count": null,
      "metadata": {
        "id": "T48DsurQELob"
      },
      "outputs": [],
      "source": [
        "names = {'Mary': 19999, 'Cris': 2111, 'Amy': 9778, 'Tom': 2245}\n",
        "del names['Mary']\n",
        "print(names)"
      ]
    },
    {
      "cell_type": "code",
      "source": [
        "del names['Sams']"
      ],
      "metadata": {
        "id": "u2wYfZesEPE1"
      },
      "execution_count": null,
      "outputs": []
    },
    {
      "cell_type": "code",
      "source": [
        "names = {'Mary': 19999, 'Cris': 2111, 'Amy': 9778, 'Tom': 2245}\n",
        "print('Mary' in names)\n",
        "print('Sams' in names)"
      ],
      "metadata": {
        "id": "P3iy1nbLEQn4"
      },
      "execution_count": null,
      "outputs": []
    }
  ]
}