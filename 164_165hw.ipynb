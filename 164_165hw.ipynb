{
  "nbformat": 4,
  "nbformat_minor": 0,
  "metadata": {
    "colab": {
      "provenance": [],
      "authorship_tag": "ABX9TyNPHOqBZT4f1BSNOFls7pAo",
      "include_colab_link": true
    },
    "kernelspec": {
      "name": "python3",
      "display_name": "Python 3"
    },
    "language_info": {
      "name": "python"
    }
  },
  "cells": [
    {
      "cell_type": "markdown",
      "metadata": {
        "id": "view-in-github",
        "colab_type": "text"
      },
      "source": [
        "<a href=\"https://colab.research.google.com/github/leopark4141/Homework/blob/main/164_165hw.ipynb\" target=\"_parent\"><img src=\"https://colab.research.google.com/assets/colab-badge.svg\" alt=\"Open In Colab\"/></a>"
      ]
    },
    {
      "cell_type": "code",
      "execution_count": null,
      "metadata": {
        "id": "Cxoq8CO4cxwd"
      },
      "outputs": [],
      "source": [
        "from shutil import rmtree\n",
        "folder = 'c:/mywork/jupyter/myfolder'\n",
        "rmtree(folder)"
      ]
    },
    {
      "cell_type": "code",
      "source": [
        "from os.path import exists\n",
        "print(exists('sunrise.jpg'))\n",
        "print(exists('temp'))\n",
        "print(exists('c:/mywork/jupyter/bts.mp4'))"
      ],
      "metadata": {
        "id": "DKqtgdIRc01w"
      },
      "execution_count": null,
      "outputs": []
    },
    {
      "cell_type": "code",
      "source": [
        "from os import mkdir\n",
        "from os.path import exists\n",
        "\n",
        "while True:\n",
        "    folder = input('생성할 디렉토리 이름을 입력하세요: ')\n",
        "    if exists(folder):\n",
        "        print(f'{folder}가 이미 존재합니다.')\n",
        "        continue\n",
        "    else:\n",
        "        mkdir(folder)\n",
        "        print(f'{folder}를 생성했습니다.')\n",
        "        break"
      ],
      "metadata": {
        "id": "bRUGqnrnc2Ff"
      },
      "execution_count": null,
      "outputs": []
    }
  ]
}