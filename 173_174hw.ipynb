{
  "nbformat": 4,
  "nbformat_minor": 0,
  "metadata": {
    "colab": {
      "provenance": [],
      "authorship_tag": "ABX9TyO/8NTK+TKQJ89Hp2hBQpu0",
      "include_colab_link": true
    },
    "kernelspec": {
      "name": "python3",
      "display_name": "Python 3"
    },
    "language_info": {
      "name": "python"
    }
  },
  "cells": [
    {
      "cell_type": "markdown",
      "metadata": {
        "id": "view-in-github",
        "colab_type": "text"
      },
      "source": [
        "<a href=\"https://colab.research.google.com/github/leopark4141/Homework/blob/main/173_174hw.ipynb\" target=\"_parent\"><img src=\"https://colab.research.google.com/assets/colab-badge.svg\" alt=\"Open In Colab\"/></a>"
      ]
    },
    {
      "cell_type": "code",
      "execution_count": null,
      "metadata": {
        "id": "U3VgLG1Od4pp"
      },
      "outputs": [],
      "source": [
        "import re\n",
        "p = re.compile('href=.*>')"
      ]
    },
    {
      "cell_type": "code",
      "source": [
        "import re\n",
        "p = re.compile('href=.*>', re.I)"
      ],
      "metadata": {
        "id": "cRfzfjvbeBNU"
      },
      "execution_count": null,
      "outputs": []
    },
    {
      "cell_type": "code",
      "source": [
        "contents = '<a href=\"help.html\">도움말을 보려면 여기를 클릭하세요</a><font size=\"15\">'\n",
        "ret = p.match(contents)\n",
        "print(ret)"
      ],
      "metadata": {
        "id": "PuYNvCsNeCWS"
      },
      "execution_count": null,
      "outputs": []
    },
    {
      "cell_type": "code",
      "source": [
        "p.search(contents)\n",
        "re.search(pattern, contents, flags=0)"
      ],
      "metadata": {
        "id": "JmPCQk4MeDve"
      },
      "execution_count": null,
      "outputs": []
    },
    {
      "cell_type": "code",
      "source": [
        "p = re.search(contents)\n",
        "print(f'Match 객체: {ret.group()}')\n",
        "print(f'Match 시작 인덱스: {ret.start()}')\n",
        "print(f'Match 끝 인덱스: {ret.end()}')\n",
        "print(f'Match 구간: {ret.span()}')"
      ],
      "metadata": {
        "id": "5Dkd3lmzeKP3"
      },
      "execution_count": null,
      "outputs": []
    },
    {
      "cell_type": "code",
      "source": [
        "ret = p.findall(contents)\n",
        "print(ret)"
      ],
      "metadata": {
        "id": "H_nroGukeKmo"
      },
      "execution_count": null,
      "outputs": []
    },
    {
      "cell_type": "code",
      "source": [
        "import re\n",
        "p = re.compile('href=\".*\"', re.I)"
      ],
      "metadata": {
        "id": "rGuBWOSieMYl"
      },
      "execution_count": null,
      "outputs": []
    },
    {
      "cell_type": "code",
      "source": [
        "import re\n",
        "p = re.compile('href=\".*?\"', re.I)"
      ],
      "metadata": {
        "id": "vW7a6YZ-eOHh"
      },
      "execution_count": null,
      "outputs": []
    },
    {
      "cell_type": "code",
      "source": [
        "import re\n",
        "p = re.compile('src=\".*?\"', re.I)\n",
        "with open('webpage.html') as f:\n",
        "    contents = f.read()\n",
        "imgurls = p.findall(contents)\n",
        "for imgurl in imgurls:\n",
        "    imgurl = imgurl.split('\"')[1]\n",
        "    print(imgurl)"
      ],
      "metadata": {
        "id": "EDI4Y3bzeQ43"
      },
      "execution_count": null,
      "outputs": []
    }
  ]
}