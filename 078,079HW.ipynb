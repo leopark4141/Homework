{
  "nbformat": 4,
  "nbformat_minor": 0,
  "metadata": {
    "colab": {
      "provenance": [],
      "authorship_tag": "ABX9TyNmZ/NdMMzOqcl7HW+lPrJB",
      "include_colab_link": true
    },
    "kernelspec": {
      "name": "python3",
      "display_name": "Python 3"
    },
    "language_info": {
      "name": "python"
    }
  },
  "cells": [
    {
      "cell_type": "markdown",
      "metadata": {
        "id": "view-in-github",
        "colab_type": "text"
      },
      "source": [
        "<a href=\"https://colab.research.google.com/github/leopark4141/Homework/blob/main/078%2C079HW.ipynb\" target=\"_parent\"><img src=\"https://colab.research.google.com/assets/colab-badge.svg\" alt=\"Open In Colab\"/></a>"
      ]
    },
    {
      "cell_type": "code",
      "execution_count": null,
      "metadata": {
        "id": "qfu0DL66xsVq"
      },
      "outputs": [],
      "source": [
        "sample = 'A lot of things occur each day, it\\'s very dynamical every day.'\n",
        "pos = sample.find('day')\n",
        "print(pos)"
      ]
    },
    {
      "cell_type": "code",
      "source": [
        "spos = 0\n",
        "count = 1\n",
        "while True:\n",
        "    idx = sample.find('day', spos)\n",
        "    print(f\"'{count}번째 발견된 인덱스: {idx}\")\n",
        "    if idx == -1:\n",
        "        break\n",
        "    spos = idx + 1\n",
        "    count += 1"
      ],
      "metadata": {
        "id": "BSpv7OYrxwXi"
      },
      "execution_count": null,
      "outputs": []
    },
    {
      "cell_type": "code",
      "source": [
        "strList = ['Hello', '오징어게임', '파이썬 lover', '악당', '제3세계']\n",
        "for text in strList:\n",
        "    print(f'{text}\\t-> {text.isalpha()}')"
      ],
      "metadata": {
        "id": "awj1ZXVpxxlq"
      },
      "execution_count": null,
      "outputs": []
    }
  ]
}