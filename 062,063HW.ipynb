{
  "nbformat": 4,
  "nbformat_minor": 0,
  "metadata": {
    "colab": {
      "provenance": [],
      "authorship_tag": "ABX9TyPfOsH6BCmRN1xxRpXd6+Dy",
      "include_colab_link": true
    },
    "kernelspec": {
      "name": "python3",
      "display_name": "Python 3"
    },
    "language_info": {
      "name": "python"
    }
  },
  "cells": [
    {
      "cell_type": "markdown",
      "metadata": {
        "id": "view-in-github",
        "colab_type": "text"
      },
      "source": [
        "<a href=\"https://colab.research.google.com/github/leopark4141/Homework/blob/main/062%2C063HW.ipynb\" target=\"_parent\"><img src=\"https://colab.research.google.com/assets/colab-badge.svg\" alt=\"Open In Colab\"/></a>"
      ]
    },
    {
      "cell_type": "code",
      "execution_count": null,
      "metadata": {
        "id": "GaBevvydPA-4"
      },
      "outputs": [],
      "source": [
        "outer_planets = ['목성', '천왕성', '해왕성']\n",
        "pos = outer_planets.index('천왕성')\n",
        "outer_planets.insert(pos, '토성')\n",
        "print(outer_planets)"
      ]
    },
    {
      "cell_type": "code",
      "source": [
        "outer_planets.insert(-1, '명왕성')\n",
        "print(outer_planets)"
      ],
      "metadata": {
        "id": "s-aMnLnPRpFs"
      },
      "execution_count": null,
      "outputs": []
    },
    {
      "cell_type": "code",
      "source": [
        "outer_planets = ['목성', '토성', '천왕성', '해왕성']\n",
        "outer_planets.insert(len(outer_planets), '명왕성')\n",
        "print(outer_planets)"
      ],
      "metadata": {
        "id": "2Z8k0Y5sRqQG"
      },
      "execution_count": null,
      "outputs": []
    },
    {
      "cell_type": "code",
      "source": [
        "fileList = []\n",
        "for i in range(3):\n",
        "    fname = input(f'파일 이름을 입력하세요[{i+1}/3]: ')\n",
        "    if fname not in fileList:\n",
        "        fileList.append(fname)\n",
        "    print(f'현재 저장된 파일들: {fileList}')"
      ],
      "metadata": {
        "id": "i3er_IbsRsHa"
      },
      "execution_count": null,
      "outputs": []
    }
  ]
}