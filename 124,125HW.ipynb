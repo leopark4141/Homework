{
  "nbformat": 4,
  "nbformat_minor": 0,
  "metadata": {
    "colab": {
      "provenance": [],
      "authorship_tag": "ABX9TyMGbMpcA7DgIQlBjLFUBTD0",
      "include_colab_link": true
    },
    "kernelspec": {
      "name": "python3",
      "display_name": "Python 3"
    },
    "language_info": {
      "name": "python"
    }
  },
  "cells": [
    {
      "cell_type": "markdown",
      "metadata": {
        "id": "view-in-github",
        "colab_type": "text"
      },
      "source": [
        "<a href=\"https://colab.research.google.com/github/leopark4141/Homework/blob/main/124%2C125HW.ipynb\" target=\"_parent\"><img src=\"https://colab.research.google.com/assets/colab-badge.svg\" alt=\"Open In Colab\"/></a>"
      ]
    },
    {
      "cell_type": "code",
      "execution_count": null,
      "metadata": {
        "id": "P5P_MgiTWKWQ"
      },
      "outputs": [],
      "source": [
        "def func():\n",
        "    print('함수 실행')\n",
        "\n",
        "func()"
      ]
    },
    {
      "cell_type": "code",
      "source": [
        "def func():\n",
        "    return '함수 실행'\n",
        "print(func())"
      ],
      "metadata": {
        "id": "e31b0rZZWRdI"
      },
      "execution_count": null,
      "outputs": []
    },
    {
      "cell_type": "code",
      "source": [
        "def func(arg1, arg2):\n",
        "    return arg1 + arg2\n",
        "print(func(1, 2))"
      ],
      "metadata": {
        "id": "UANvmR1LWSyR"
      },
      "execution_count": null,
      "outputs": []
    },
    {
      "cell_type": "code",
      "source": [
        "def setLevel(character, level):\n",
        "    print(f'{character}의 레벨: {level}')\n",
        "\n",
        "setLevel('루피', 10)"
      ],
      "metadata": {
        "id": "Vj59dE2_WW-x"
      },
      "execution_count": null,
      "outputs": []
    },
    {
      "cell_type": "code",
      "source": [
        "def setLevel(*args):\n",
        "    print(args)\n",
        "\n",
        "setLevel('루피', 10)"
      ],
      "metadata": {
        "id": "JFV_onVxWY8S"
      },
      "execution_count": null,
      "outputs": []
    },
    {
      "cell_type": "code",
      "source": [
        "def setLevel(**kwargs):\n",
        "    print(kwargs)\n",
        "\n",
        "setLevel(character='루피', level=10)"
      ],
      "metadata": {
        "id": "EA4_iBtVWacZ"
      },
      "execution_count": null,
      "outputs": []
    },
    {
      "cell_type": "code",
      "source": [
        "def setLevel(character, level, **kwargs):\n",
        "    print(f'{character}의 레벨: {level}')\n",
        "    print(kwargs)\n",
        "\n",
        "setLevel('루피', 3, category='named', position='leader')"
      ],
      "metadata": {
        "id": "nX8STi0bWcIN"
      },
      "execution_count": null,
      "outputs": []
    }
  ]
}