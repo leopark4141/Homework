{
  "nbformat": 4,
  "nbformat_minor": 0,
  "metadata": {
    "colab": {
      "provenance": [],
      "authorship_tag": "ABX9TyM/FL4CmwxlNvhuOYHYfdw1",
      "include_colab_link": true
    },
    "kernelspec": {
      "name": "python3",
      "display_name": "Python 3"
    },
    "language_info": {
      "name": "python"
    }
  },
  "cells": [
    {
      "cell_type": "markdown",
      "metadata": {
        "id": "view-in-github",
        "colab_type": "text"
      },
      "source": [
        "<a href=\"https://colab.research.google.com/github/leopark4141/Homework/blob/main/142_143hw.ipynb\" target=\"_parent\"><img src=\"https://colab.research.google.com/assets/colab-badge.svg\" alt=\"Open In Colab\"/></a>"
      ]
    },
    {
      "cell_type": "code",
      "execution_count": null,
      "metadata": {
        "id": "qemhR9BIZcmV"
      },
      "outputs": [],
      "source": [
        "data = ['abc', 1234, 'def', 'ghi']\n",
        "for d in data:\n",
        "    try:\n",
        "        assert type(d) is str, f'문자열이 아닌 데이터: {d}'\n",
        "        print(d)\n",
        "    except AssertionError as e:\n",
        "        print(e)"
      ]
    },
    {
      "cell_type": "code",
      "source": [
        "def makeException():\n",
        "    try:\n",
        "        raise ValueError('값이 잘못된 경우')\n",
        "    except Exception as e:\n",
        "        print(e)"
      ],
      "metadata": {
        "id": "hB5m7cmhZhAZ"
      },
      "execution_count": null,
      "outputs": []
    },
    {
      "cell_type": "code",
      "source": [
        "def makeException():\n",
        "    try:\n",
        "        raise ValueError('값이 잘못된 경우')\n",
        "    except Exception as e:\n",
        "        print(e)\n",
        "        raise RuntimeError('새로운 오류 발생!')"
      ],
      "metadata": {
        "id": "4_0Kh99lZiuc"
      },
      "execution_count": null,
      "outputs": []
    }
  ]
}