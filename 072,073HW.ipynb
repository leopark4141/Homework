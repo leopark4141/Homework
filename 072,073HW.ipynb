{
  "nbformat": 4,
  "nbformat_minor": 0,
  "metadata": {
    "colab": {
      "provenance": [],
      "authorship_tag": "ABX9TyOdQDULR73LlnEocpA4AHqd",
      "include_colab_link": true
    },
    "kernelspec": {
      "name": "python3",
      "display_name": "Python 3"
    },
    "language_info": {
      "name": "python"
    }
  },
  "cells": [
    {
      "cell_type": "markdown",
      "metadata": {
        "id": "view-in-github",
        "colab_type": "text"
      },
      "source": [
        "<a href=\"https://colab.research.google.com/github/leopark4141/Homework/blob/main/072%2C073HW.ipynb\" target=\"_parent\"><img src=\"https://colab.research.google.com/assets/colab-badge.svg\" alt=\"Open In Colab\"/></a>"
      ]
    },
    {
      "cell_type": "code",
      "execution_count": null,
      "metadata": {
        "id": "H2Io9iZEvlwj"
      },
      "outputs": [],
      "source": [
        "while True:\n",
        "    ch = input('문자 1개를 입력하세요(끝내려면 엔터를 치세요): ')\n",
        "    if len(ch) == 0:\n",
        "        break\n",
        "    ch = ch[0]\n",
        "    code = ord(ch)\n",
        "    print(f\"문자 '{ch}'의 코드값: {hex(code)}\")"
      ]
    }
  ]
}