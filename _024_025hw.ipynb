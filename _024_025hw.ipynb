{
  "nbformat": 4,
  "nbformat_minor": 0,
  "metadata": {
    "colab": {
      "provenance": [],
      "authorship_tag": "ABX9TyOVR+zdDHNnZh0RQ4xnenOA",
      "include_colab_link": true
    },
    "kernelspec": {
      "name": "python3",
      "display_name": "Python 3"
    },
    "language_info": {
      "name": "python"
    }
  },
  "cells": [
    {
      "cell_type": "markdown",
      "metadata": {
        "id": "view-in-github",
        "colab_type": "text"
      },
      "source": [
        "<a href=\"https://colab.research.google.com/github/leopark4141/Homework/blob/main/_024_025hw.ipynb\" target=\"_parent\"><img src=\"https://colab.research.google.com/assets/colab-badge.svg\" alt=\"Open In Colab\"/></a>"
      ]
    },
    {
      "cell_type": "code",
      "execution_count": null,
      "metadata": {
        "colab": {
          "base_uri": "https://localhost:8080/"
        },
        "id": "ZwAqubp80-DF",
        "outputId": "a5f689c5-e6cb-4938-9785-f8ff465ec4fc"
      },
      "outputs": [
        {
          "output_type": "stream",
          "name": "stdout",
          "text": [
            "False\n",
            "True\n",
            "True\n",
            "False\n",
            "True\n",
            "False\n"
          ]
        }
      ],
      "source": [
        "x=1;y=2\n",
        "strdata1='hi';strdata2='python'\n",
        "flag1=x==y\n",
        "flag2=x<y\n",
        "flag3=strdata1 !=strdata2\n",
        "flag4=strdata1 > strdata2\n",
        "\n",
        "print(flag1 and flag2)\n",
        "print(flag2 and flag3)\n",
        "print(flag3 or flag4)\n",
        "print(flag1 or flag4)\n",
        "print(not flag1)\n",
        "print(not flag2)\n"
      ]
    },
    {
      "cell_type": "code",
      "source": [
        "bit1=0x61;bit2=0x62\n",
        "print(hex(bit1&bit2))\n",
        "print(hex(bit1|bit2))\n",
        "print(hex(bit1^bit2))\n",
        "print(hex(bit1>>bit2))\n",
        "print(hex(bit1<<bit2))\n"
      ],
      "metadata": {
        "colab": {
          "base_uri": "https://localhost:8080/"
        },
        "id": "nQXlNG2e1DSg",
        "outputId": "20395748-b375-4ef2-8d9f-a5857130c186"
      },
      "execution_count": null,
      "outputs": [
        {
          "output_type": "stream",
          "name": "stdout",
          "text": [
            "0x60\n",
            "0x63\n",
            "0x3\n",
            "0x0\n",
            "0x184000000000000000000000000\n"
          ]
        }
      ]
    }
  ]
}