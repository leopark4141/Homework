{
  "nbformat": 4,
  "nbformat_minor": 0,
  "metadata": {
    "colab": {
      "provenance": [],
      "include_colab_link": true
    },
    "kernelspec": {
      "name": "python3",
      "display_name": "Python 3"
    },
    "language_info": {
      "name": "python"
    }
  },
  "cells": [
    {
      "cell_type": "markdown",
      "metadata": {
        "id": "view-in-github",
        "colab_type": "text"
      },
      "source": [
        "<a href=\"https://colab.research.google.com/github/leopark4141/Homework/blob/main/_054_055hw.ipynb\" target=\"_parent\"><img src=\"https://colab.research.google.com/assets/colab-badge.svg\" alt=\"Open In Colab\"/></a>"
      ]
    },
    {
      "cell_type": "code",
      "execution_count": null,
      "metadata": {
        "colab": {
          "base_uri": "https://localhost:8080/"
        },
        "id": "b2NQVYAulCtg",
        "outputId": "cab9d18b-e9c6-41fe-95f7-23981f658d68"
      },
      "outputs": [
        {
          "output_type": "stream",
          "name": "stdout",
          "text": [
            "태양계의0번째 천체:태양\n",
            "태양계의1번째 천체:수\n",
            "태양계의2번째 천체:금\n",
            "태양계의3번째 천체:지\n",
            "태양계의4번째 천체:화\n",
            "태양계의5번째 천체:목\n",
            "태양계의6번째 천체:토\n",
            "태양계의7번째 천체:천\n",
            "태양계의8번째 천체:해\n"
          ]
        }
      ],
      "source": [
        "solarsys=['태양','수','금','지','화','목','토','천','해']\n",
        "for i,body in enumerate(solarsys):\n",
        "  print(f'태양계의{i}번째 천체:{body}')"
      ]
    },
    {
      "cell_type": "code",
      "source": [
        "seasons=['봄','여름','가을','겨울']\n",
        "print(list(enumerate(seasons,start=1)))"
      ],
      "metadata": {
        "colab": {
          "base_uri": "https://localhost:8080/"
        },
        "id": "mVAkpZWulJGw",
        "outputId": "a3c8517f-a671-4d9c-fa28-741a25a52189"
      },
      "execution_count": null,
      "outputs": [
        {
          "output_type": "stream",
          "name": "stdout",
          "text": [
            "[(1, '봄'), (2, '여름'), (3, '가을'), (4, '겨울')]\n"
          ]
        }
      ]
    },
    {
      "cell_type": "code",
      "source": [
        "def myEnumerate(iterable,start=0):\n",
        "  n=start\n",
        "  for item in iterable:\n",
        "    yield(n,item)\n",
        "    n+=1"
      ],
      "metadata": {
        "id": "OEz889yClJaa"
      },
      "execution_count": null,
      "outputs": []
    },
    {
      "cell_type": "code",
      "source": [
        "print(list(myEnumerate(seasons,start=1)))"
      ],
      "metadata": {
        "colab": {
          "base_uri": "https://localhost:8080/"
        },
        "id": "tgvr6XTPlJsZ",
        "outputId": "d178ceec-92db-40fd-a1b1-5906c536f84f"
      },
      "execution_count": null,
      "outputs": [
        {
          "output_type": "stream",
          "name": "stdout",
          "text": [
            "[(1, '봄'), (2, '여름'), (3, '가을'), (4, '겨울')]\n"
          ]
        }
      ]
    },
    {
      "cell_type": "code",
      "source": [
        "fruits=('a','p','o','w')\n",
        "ret=reversed(fruits)\n",
        "print(list(ret))"
      ],
      "metadata": {
        "colab": {
          "base_uri": "https://localhost:8080/"
        },
        "id": "G-mpRcimlKAj",
        "outputId": "2c944f5a-c084-4180-8d4e-86e76f4259d7"
      },
      "execution_count": null,
      "outputs": [
        {
          "output_type": "stream",
          "name": "stdout",
          "text": [
            "['w', 'o', 'p', 'a']\n"
          ]
        }
      ]
    },
    {
      "cell_type": "code",
      "source": [
        "print(fruits)"
      ],
      "metadata": {
        "colab": {
          "base_uri": "https://localhost:8080/"
        },
        "id": "1qW_t_OMlKHN",
        "outputId": "c4d339ca-9703-4f26-afe7-056b55e4f846"
      },
      "execution_count": null,
      "outputs": [
        {
          "output_type": "stream",
          "name": "stdout",
          "text": [
            "('a', 'p', 'o', 'w')\n"
          ]
        }
      ]
    },
    {
      "cell_type": "code",
      "source": [
        "for i in reversed(range(1,6)):\n",
        "  print(i)"
      ],
      "metadata": {
        "colab": {
          "base_uri": "https://localhost:8080/"
        },
        "id": "UWRB9OWzlKM8",
        "outputId": "652b2564-2d4e-4896-f758-5f911d3008e6"
      },
      "execution_count": null,
      "outputs": [
        {
          "output_type": "stream",
          "name": "stdout",
          "text": [
            "5\n",
            "4\n",
            "3\n",
            "2\n",
            "1\n"
          ]
        }
      ]
    }
  ]
}