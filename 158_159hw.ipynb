{
  "nbformat": 4,
  "nbformat_minor": 0,
  "metadata": {
    "colab": {
      "provenance": [],
      "authorship_tag": "ABX9TyPf1dJ4yVnyQ1L4gQ0sIIKO",
      "include_colab_link": true
    },
    "kernelspec": {
      "name": "python3",
      "display_name": "Python 3"
    },
    "language_info": {
      "name": "python"
    }
  },
  "cells": [
    {
      "cell_type": "markdown",
      "metadata": {
        "id": "view-in-github",
        "colab_type": "text"
      },
      "source": [
        "<a href=\"https://colab.research.google.com/github/leopark4141/Homework/blob/main/158_159hw.ipynb\" target=\"_parent\"><img src=\"https://colab.research.google.com/assets/colab-badge.svg\" alt=\"Open In Colab\"/></a>"
      ]
    },
    {
      "cell_type": "code",
      "execution_count": null,
      "metadata": {
        "id": "8otlQ519bywl"
      },
      "outputs": [],
      "source": [
        "from os.path import getsize\n",
        "file1 = 'sunrise.jpg'\n",
        "file2 = 'c:/class/temp/bmp1_0128.jpg'\n",
        "print(getsize(file1))\n",
        "print(getsize(file2))"
      ]
    },
    {
      "cell_type": "code",
      "source": [
        "from os import remove\n",
        "k = input('삭제할 파일명을 입력하세요: ')\n",
        "if k.lower() == 'y':\n",
        "    remove('mydata.txt')\n",
        "    print('mydata.txt를 삭제했습니다.')"
      ],
      "metadata": {
        "id": "NZpogWdNb2rJ"
      },
      "execution_count": null,
      "outputs": []
    }
  ]
}