{
  "nbformat": 4,
  "nbformat_minor": 0,
  "metadata": {
    "colab": {
      "provenance": [],
      "authorship_tag": "ABX9TyP3+Tp+IZk+22Hgs1hss0Zd",
      "include_colab_link": true
    },
    "kernelspec": {
      "name": "python3",
      "display_name": "Python 3"
    },
    "language_info": {
      "name": "python"
    }
  },
  "cells": [
    {
      "cell_type": "markdown",
      "metadata": {
        "id": "view-in-github",
        "colab_type": "text"
      },
      "source": [
        "<a href=\"https://colab.research.google.com/github/leopark4141/Homework/blob/main/122%2C123HW.ipynb\" target=\"_parent\"><img src=\"https://colab.research.google.com/assets/colab-badge.svg\" alt=\"Open In Colab\"/></a>"
      ]
    },
    {
      "cell_type": "code",
      "execution_count": null,
      "metadata": {
        "id": "uLHV5DoKV6DH"
      },
      "outputs": [],
      "source": [
        "greats = {'루피': 99, '조로': 95, '상디': 89, '나미': 97}\n",
        "others = {'우솝': 70}\n",
        "updated = greats | others\n",
        "print(updated)"
      ]
    },
    {
      "cell_type": "code",
      "source": [
        "updated2 = updated | {'쵸파': 90}\n",
        "print(updated2)"
      ],
      "metadata": {
        "id": "tGWqC40HV9VR"
      },
      "execution_count": null,
      "outputs": []
    },
    {
      "cell_type": "code",
      "source": [
        "greats |= others\n",
        "print(greats)"
      ],
      "metadata": {
        "id": "CeOap4TTV-eb"
      },
      "execution_count": null,
      "outputs": []
    },
    {
      "cell_type": "code",
      "source": [
        "greats = {'루피': 99, '조로': 95, '상디': 89, '나미': 97}\n",
        "ret = sorted(greats.items())\n",
        "print(ret)"
      ],
      "metadata": {
        "id": "03BwpNA3V_hL"
      },
      "execution_count": null,
      "outputs": []
    },
    {
      "cell_type": "code",
      "source": [
        "ret = sorted(greats.items(), reverse=True)\n",
        "print(ret)"
      ],
      "metadata": {
        "id": "dneMiScIWA61"
      },
      "execution_count": null,
      "outputs": []
    },
    {
      "cell_type": "code",
      "source": [
        "ret = sorted(greats.items(), key=lambda x: x[1])\n",
        "print(ret)"
      ],
      "metadata": {
        "id": "T9sJBrCtWCVe"
      },
      "execution_count": null,
      "outputs": []
    },
    {
      "cell_type": "code",
      "source": [
        "for name, level in ret:\n",
        "    print(f'{name}의 점수는 {level}입니다.')"
      ],
      "metadata": {
        "id": "O1rjSIh3WDqN"
      },
      "execution_count": null,
      "outputs": []
    }
  ]
}