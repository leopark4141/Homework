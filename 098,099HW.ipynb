{
  "nbformat": 4,
  "nbformat_minor": 0,
  "metadata": {
    "colab": {
      "provenance": [],
      "authorship_tag": "ABX9TyNx5F7PYu447e2lXIiO2w0c",
      "include_colab_link": true
    },
    "kernelspec": {
      "name": "python3",
      "display_name": "Python 3"
    },
    "language_info": {
      "name": "python"
    }
  },
  "cells": [
    {
      "cell_type": "markdown",
      "metadata": {
        "id": "view-in-github",
        "colab_type": "text"
      },
      "source": [
        "<a href=\"https://colab.research.google.com/github/leopark4141/Homework/blob/main/098%2C099HW.ipynb\" target=\"_parent\"><img src=\"https://colab.research.google.com/assets/colab-badge.svg\" alt=\"Open In Colab\"/></a>"
      ]
    },
    {
      "cell_type": "code",
      "execution_count": null,
      "metadata": {
        "id": "Z9BkRv8NFNpY"
      },
      "outputs": [],
      "source": [
        "set1 = set('abracadabra')\n",
        "set2 = set('abbreviation')"
      ]
    },
    {
      "cell_type": "code",
      "source": [
        "ret = set1 | set2\n",
        "print(ret)"
      ],
      "metadata": {
        "id": "ZEoaqR5NFROg"
      },
      "execution_count": null,
      "outputs": []
    },
    {
      "cell_type": "code",
      "source": [
        "ret = set1 & set2\n",
        "print(ret)"
      ],
      "metadata": {
        "id": "0M8UHiu1FSWa"
      },
      "execution_count": null,
      "outputs": []
    },
    {
      "cell_type": "code",
      "source": [
        "ret = set1 - set2\n",
        "print(ret)"
      ],
      "metadata": {
        "id": "yQ2TD5SPFTQk"
      },
      "execution_count": null,
      "outputs": []
    },
    {
      "cell_type": "code",
      "source": [
        "ret = set1 ^ set2\n",
        "print(ret)"
      ],
      "metadata": {
        "id": "vbEKz9JQFV9y"
      },
      "execution_count": null,
      "outputs": []
    },
    {
      "cell_type": "code",
      "source": [
        "ret = set1 <= set2\n",
        "print(ret)"
      ],
      "metadata": {
        "id": "NWeJ8KOFFYea"
      },
      "execution_count": null,
      "outputs": []
    },
    {
      "cell_type": "code",
      "source": [
        "set1 |= set2\n",
        "set1 &= set2\n",
        "set1 -= set2\n",
        "set1 ^= set2"
      ],
      "metadata": {
        "id": "kKKNMS7SFZE6"
      },
      "execution_count": null,
      "outputs": []
    },
    {
      "cell_type": "code",
      "source": [
        "fruits = {'사과', '배', '오렌지', '수박'}\n",
        "fruits.add('딸기')\n",
        "print(fruits)"
      ],
      "metadata": {
        "id": "_CFupJMoFaPq"
      },
      "execution_count": null,
      "outputs": []
    },
    {
      "cell_type": "code",
      "source": [
        "fruits.add('배')\n",
        "print(fruits)"
      ],
      "metadata": {
        "id": "a2sZkkIgFbxS"
      },
      "execution_count": null,
      "outputs": []
    }
  ]
}