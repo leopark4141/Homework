{
  "nbformat": 4,
  "nbformat_minor": 0,
  "metadata": {
    "colab": {
      "provenance": [],
      "authorship_tag": "ABX9TyNmbtZk2VcQhQY97YCi6juH",
      "include_colab_link": true
    },
    "kernelspec": {
      "name": "python3",
      "display_name": "Python 3"
    },
    "language_info": {
      "name": "python"
    }
  },
  "cells": [
    {
      "cell_type": "markdown",
      "metadata": {
        "id": "view-in-github",
        "colab_type": "text"
      },
      "source": [
        "<a href=\"https://colab.research.google.com/github/leopark4141/Homework/blob/main/132%2C133HW.ipynb\" target=\"_parent\"><img src=\"https://colab.research.google.com/assets/colab-badge.svg\" alt=\"Open In Colab\"/></a>"
      ]
    },
    {
      "cell_type": "code",
      "execution_count": null,
      "metadata": {
        "id": "AMHc2u6_Xv4A"
      },
      "outputs": [],
      "source": [
        "player1 = Wizard()\n",
        "player1.setName('FirePlayer')"
      ]
    },
    {
      "cell_type": "code",
      "source": [
        "class Wizard:\n",
        "    def __init__(self, name):\n",
        "        self.name = name\n",
        "        self.level = 1\n",
        "        self.intelligence = 10\n",
        "        self.strength = 5\n",
        "        self.defense = 5\n",
        "        self.healthPoint = 100\n",
        "        self.manaPoint = 100\n",
        "        self.attackPower = 10\n",
        "        self.defensePower = 10"
      ],
      "metadata": {
        "id": "A5M7GP5AXy2w"
      },
      "execution_count": null,
      "outputs": []
    },
    {
      "cell_type": "code",
      "source": [
        "player1 = Wizard('FirePlayer')\n",
        "print(f'{player1.name}의 기본 레벨은 {player1.level}입니다.')"
      ],
      "metadata": {
        "id": "o_CZRMl5X0So"
      },
      "execution_count": null,
      "outputs": []
    },
    {
      "cell_type": "code",
      "source": [
        "player1.level = 2\n",
        "player2 = Wizard('StonePlayer')\n",
        "print(player1.level, player2.level)"
      ],
      "metadata": {
        "id": "_Gees2-iX3In"
      },
      "execution_count": null,
      "outputs": []
    },
    {
      "cell_type": "code",
      "source": [
        "class Wizard:\n",
        "    generated = 0\n",
        "\n",
        "    def setFireballLevel(self, power):\n",
        "        self.fireballLevel = power\n",
        "        print(f'화염구 공격 강도 [{power}]로 설정합니다.')"
      ],
      "metadata": {
        "id": "Dd-VX6x7X6gW"
      },
      "execution_count": null,
      "outputs": []
    },
    {
      "cell_type": "code",
      "source": [
        "@classmethod\n",
        "def addGenerated(cls, count):\n",
        "    cls.generated += count"
      ],
      "metadata": {
        "id": "rWIi-PG8X8wH"
      },
      "execution_count": null,
      "outputs": []
    },
    {
      "cell_type": "code",
      "source": [
        "@staticmethod\n",
        "def statics(cls, count):\n",
        "    cls.generated += count"
      ],
      "metadata": {
        "id": "i9D61w1xX-WF"
      },
      "execution_count": null,
      "outputs": []
    }
  ]
}