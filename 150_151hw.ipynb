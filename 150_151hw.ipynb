{
  "nbformat": 4,
  "nbformat_minor": 0,
  "metadata": {
    "colab": {
      "provenance": [],
      "authorship_tag": "ABX9TyNIIA0Yaafgc0ZH/oxiGWpz",
      "include_colab_link": true
    },
    "kernelspec": {
      "name": "python3",
      "display_name": "Python 3"
    },
    "language_info": {
      "name": "python"
    }
  },
  "cells": [
    {
      "cell_type": "markdown",
      "metadata": {
        "id": "view-in-github",
        "colab_type": "text"
      },
      "source": [
        "<a href=\"https://colab.research.google.com/github/leopark4141/Homework/blob/main/150_151hw.ipynb\" target=\"_parent\"><img src=\"https://colab.research.google.com/assets/colab-badge.svg\" alt=\"Open In Colab\"/></a>"
      ]
    },
    {
      "cell_type": "code",
      "execution_count": null,
      "metadata": {
        "id": "quhOrVwmarMq"
      },
      "outputs": [],
      "source": [
        "f = open('myfile.txt', 'w', encoding='cp949')\n",
        "f.write('파일을 엽니다.')\n",
        "f.close()"
      ]
    },
    {
      "cell_type": "code",
      "source": [
        "with open('myfile.txt', 'r', encoding='cp949') as f:\n",
        "    readData = f.readlines()"
      ],
      "metadata": {
        "id": "BfSBhapfat6o"
      },
      "execution_count": null,
      "outputs": []
    }
  ]
}