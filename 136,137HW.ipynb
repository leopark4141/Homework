{
  "nbformat": 4,
  "nbformat_minor": 0,
  "metadata": {
    "colab": {
      "provenance": [],
      "authorship_tag": "ABX9TyMJuixpn6c5jfLFQvlbLRkg",
      "include_colab_link": true
    },
    "kernelspec": {
      "name": "python3",
      "display_name": "Python 3"
    },
    "language_info": {
      "name": "python"
    }
  },
  "cells": [
    {
      "cell_type": "markdown",
      "metadata": {
        "id": "view-in-github",
        "colab_type": "text"
      },
      "source": [
        "<a href=\"https://colab.research.google.com/github/leopark4141/Homework/blob/main/136%2C137HW.ipynb\" target=\"_parent\"><img src=\"https://colab.research.google.com/assets/colab-badge.svg\" alt=\"Open In Colab\"/></a>"
      ]
    },
    {
      "cell_type": "code",
      "execution_count": null,
      "metadata": {
        "id": "x-oVOM6lYXWE"
      },
      "outputs": [],
      "source": [
        "class Character:\n",
        "    def __init__(self):\n",
        "        self.strength = 1\n",
        "        self.intelligence = 1\n",
        "        self.power = 1\n",
        "        self.mentality = 1"
      ]
    },
    {
      "cell_type": "code",
      "source": [
        "class Wizard(Character):\n",
        "    def __init__(self, name=None, level=1, hp=100):\n",
        "        self.name = name\n",
        "        self.level = level\n",
        "        self.hp = hp"
      ],
      "metadata": {
        "id": "Baf6JgzXYcDz"
      },
      "execution_count": null,
      "outputs": []
    },
    {
      "cell_type": "code",
      "source": [
        "player1 = Wizard('Stormbaby')\n",
        "print(f'{player1.name}의 레벨: {player1.level}')"
      ],
      "metadata": {
        "id": "LDsdGkqJYegn"
      },
      "execution_count": null,
      "outputs": []
    },
    {
      "cell_type": "code",
      "source": [
        "player1 = Wizard('Stormbaby')\n",
        "print(f'{player1.name}의 레벨: {player1.level}')\n",
        "print(f'{player1.mentality}')"
      ],
      "metadata": {
        "id": "Z9Ah5VGpYflH"
      },
      "execution_count": null,
      "outputs": []
    },
    {
      "cell_type": "code",
      "source": [
        "class Wizard(Character):\n",
        "    def __init__(self, name=None):\n",
        "        super().__init__()\n",
        "        self.name = name\n",
        "        self.level = 1"
      ],
      "metadata": {
        "id": "qi8wT_7fYgtZ"
      },
      "execution_count": null,
      "outputs": []
    },
    {
      "cell_type": "code",
      "source": [
        "player1 = Wizard('Stormbaby')\n",
        "print(f'{player1.name}의 레벨: {player1.level}')\n",
        "print(f'{player1.mentality}')"
      ],
      "metadata": {
        "id": "a67bCEQHYlxH"
      },
      "execution_count": null,
      "outputs": []
    },
    {
      "cell_type": "code",
      "source": [
        "class Parent1:\n",
        "    def __init__(self):\n",
        "        print('Parent1의 생성자')\n",
        "\n",
        "class Parent2:\n",
        "    def __init__(self):\n",
        "        print('Parent2의 생성자')\n",
        "\n",
        "class Child(Parent1, Parent2):\n",
        "    pass\n",
        "\n",
        "c = Child()"
      ],
      "metadata": {
        "id": "__ppuQFSYnhn"
      },
      "execution_count": null,
      "outputs": []
    },
    {
      "cell_type": "code",
      "source": [
        "fileList = ['file1.jpg', 'file2.jpg', 'file3.jpg']\n",
        "for i in range(4):\n",
        "    try:\n",
        "        fname = fileList[i]\n",
        "        print(f'파일명: {fname}')\n",
        "    except IndexError:\n",
        "        print('파일명 리스트 index out of range')"
      ],
      "metadata": {
        "id": "dMxx8ZdpYo8B"
      },
      "execution_count": null,
      "outputs": []
    }
  ]
}