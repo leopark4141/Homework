{
  "nbformat": 4,
  "nbformat_minor": 0,
  "metadata": {
    "colab": {
      "provenance": [],
      "authorship_tag": "ABX9TyPP9o8ZIhBBSBSAnziR8yGa",
      "include_colab_link": true
    },
    "kernelspec": {
      "name": "python3",
      "display_name": "Python 3"
    },
    "language_info": {
      "name": "python"
    }
  },
  "cells": [
    {
      "cell_type": "markdown",
      "metadata": {
        "id": "view-in-github",
        "colab_type": "text"
      },
      "source": [
        "<a href=\"https://colab.research.google.com/github/leopark4141/Homework/blob/main/028_029hw.ipynb\" target=\"_parent\"><img src=\"https://colab.research.google.com/assets/colab-badge.svg\" alt=\"Open In Colab\"/></a>"
      ]
    },
    {
      "cell_type": "code",
      "execution_count": null,
      "metadata": {
        "colab": {
          "base_uri": "https://localhost:8080/"
        },
        "id": "qSipzQYX4cf4",
        "outputId": "a13ffebc-36da-4ca3-e39a-a85f3db2ebf8"
      },
      "outputs": [
        {
          "output_type": "stream",
          "name": "stdout",
          "text": [
            "8\n",
            "3.14\n",
            "5.0\n"
          ]
        }
      ],
      "source": [
        "intdata=-8\n",
        "floatdata=3.14\n",
        "complexdata=3+4j\n",
        "print(abs(intdata))\n",
        "print(abs(floatdata))\n",
        "print(abs(complexdata))\n"
      ]
    },
    {
      "cell_type": "code",
      "source": [
        "x=11113\n",
        "y=23\n",
        "ret1,ret2=divmod(x,y)\n",
        "print(f'{x}를 {y}로 나누면 몫이{ret1},나머지가{ret2}입니다')"
      ],
      "metadata": {
        "colab": {
          "base_uri": "https://localhost:8080/"
        },
        "id": "sgENFNLH4gLl",
        "outputId": "50e30479-e125-43ea-b9cf-345afbe6f6f4"
      },
      "execution_count": null,
      "outputs": [
        {
          "output_type": "stream",
          "name": "stdout",
          "text": [
            "11113를 23로 나누면 몫이483,나머지가4입니다\n"
          ]
        }
      ]
    },
    {
      "cell_type": "code",
      "source": [
        "x=11113\n",
        "y=23\n",
        "ret1=x//y\n",
        "ret2=x%y\n",
        "print(f'{x}를 {y}로 나누면 몫이{ret1},나머지가{ret2}입니다')"
      ],
      "metadata": {
        "colab": {
          "base_uri": "https://localhost:8080/"
        },
        "id": "L5ab7W3Y4gT7",
        "outputId": "1475e6fe-e177-4f83-82ff-b86217000e5e"
      },
      "execution_count": null,
      "outputs": [
        {
          "output_type": "stream",
          "name": "stdout",
          "text": [
            "11113를 23로 나누면 몫이483,나머지가4입니다\n"
          ]
        }
      ]
    }
  ]
}