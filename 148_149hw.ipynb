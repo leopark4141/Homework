{
  "nbformat": 4,
  "nbformat_minor": 0,
  "metadata": {
    "colab": {
      "provenance": [],
      "authorship_tag": "ABX9TyNlMUIX+FtFHKQ9XKfXaWrn",
      "include_colab_link": true
    },
    "kernelspec": {
      "name": "python3",
      "display_name": "Python 3"
    },
    "language_info": {
      "name": "python"
    }
  },
  "cells": [
    {
      "cell_type": "markdown",
      "metadata": {
        "id": "view-in-github",
        "colab_type": "text"
      },
      "source": [
        "<a href=\"https://colab.research.google.com/github/leopark4141/Homework/blob/main/148_149hw.ipynb\" target=\"_parent\"><img src=\"https://colab.research.google.com/assets/colab-badge.svg\" alt=\"Open In Colab\"/></a>"
      ]
    },
    {
      "cell_type": "code",
      "execution_count": null,
      "metadata": {
        "id": "ng1DS2LfaXiw"
      },
      "outputs": [],
      "source": [
        "import matplotlib"
      ]
    },
    {
      "cell_type": "code",
      "source": [
        "pip list"
      ],
      "metadata": {
        "id": "tuDbwaXsaadT"
      },
      "execution_count": null,
      "outputs": []
    },
    {
      "cell_type": "code",
      "source": [
        "def printName():\n",
        "    print(f'module_b의 __name__ = {__name__}')"
      ],
      "metadata": {
        "id": "byDjCpwJabcv"
      },
      "execution_count": null,
      "outputs": []
    },
    {
      "cell_type": "code",
      "source": [
        "from module_b import printName\n",
        "\n",
        "printName()\n",
        "print(f'실행 모듈의 __name__ = {__name__}')"
      ],
      "metadata": {
        "id": "0a0cV_ARacl-"
      },
      "execution_count": null,
      "outputs": []
    },
    {
      "cell_type": "code",
      "source": [
        "def printName():\n",
        "    print(f'module_b의 __name__ = {__name__}')\n",
        "\n",
        "if __name__ == '__main__':\n",
        "    print('이 코드는 직접 실행된 코드입니다.')"
      ],
      "metadata": {
        "id": "HwVmU8Y9aeYT"
      },
      "execution_count": null,
      "outputs": []
    }
  ]
}