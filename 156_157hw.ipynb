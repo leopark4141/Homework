{
  "nbformat": 4,
  "nbformat_minor": 0,
  "metadata": {
    "colab": {
      "provenance": [],
      "authorship_tag": "ABX9TyOhzvdyHRixRaLUIcVRTV8H",
      "include_colab_link": true
    },
    "kernelspec": {
      "name": "python3",
      "display_name": "Python 3"
    },
    "language_info": {
      "name": "python"
    }
  },
  "cells": [
    {
      "cell_type": "markdown",
      "metadata": {
        "id": "view-in-github",
        "colab_type": "text"
      },
      "source": [
        "<a href=\"https://colab.research.google.com/github/leopark4141/Homework/blob/main/156_157hw.ipynb\" target=\"_parent\"><img src=\"https://colab.research.google.com/assets/colab-badge.svg\" alt=\"Open In Colab\"/></a>"
      ]
    },
    {
      "cell_type": "code",
      "execution_count": null,
      "metadata": {
        "id": "ouhFqV2Pbh45"
      },
      "outputs": [],
      "source": [
        "data1 = 'This is data1\\n'\n",
        "data2 = 'This is data2\\n'\n",
        "with open('mydata.txt', 'w') as f:\n",
        "    f.writelines([data1, data2])"
      ]
    },
    {
      "cell_type": "code",
      "source": [
        "with open('mydata.txt', 'r') as f:\n",
        "    data = f.read()\n",
        "print(data)"
      ],
      "metadata": {
        "id": "gQ01V9NGblLT"
      },
      "execution_count": null,
      "outputs": []
    },
    {
      "cell_type": "code",
      "source": [
        "bufsize = 1024\n",
        "with open('sunrise.jpg', 'rb') as sf, open('sunrise_copied.jpg', 'wb') as df:\n",
        "    data = sf.read(bufsize)\n",
        "    while data:\n",
        "        df.write(data)\n",
        "        data = sf.read(bufsize)"
      ],
      "metadata": {
        "id": "w26ah1avbmry"
      },
      "execution_count": null,
      "outputs": []
    }
  ]
}